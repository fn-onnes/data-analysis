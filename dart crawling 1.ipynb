{
 "cells": [
  {
   "cell_type": "code",
   "execution_count": 3,
   "id": "e1575ebe",
   "metadata": {},
   "outputs": [],
   "source": [
    "import requests    #응답 모듈 "
   ]
  },
  {
   "cell_type": "code",
   "execution_count": 3,
   "id": "b3522237",
   "metadata": {},
   "outputs": [
    {
     "name": "stdout",
     "output_type": "stream",
     "text": [
      "Requirement already satisfied: xlrd in c:\\conda3\\lib\\site-packages (2.0.1)\n"
     ]
    }
   ],
   "source": [
    "!pip install xlrd   "
   ]
  },
  {
   "cell_type": "code",
   "execution_count": 12,
   "id": "ae9c887d",
   "metadata": {},
   "outputs": [],
   "source": [
    "user=\"Mozilla/5.0 (Windows NT 10.0; Win64; x64) AppleWebKit/537.36 (KHTML, like Gecko) Chrome/118.0.0.0 Safari/537.36\"  #신분증 "
   ]
  },
  {
   "cell_type": "code",
   "execution_count": 13,
   "id": "c54be651",
   "metadata": {},
   "outputs": [],
   "source": [
    "url='https://dart.fss.or.kr/pdf/download/excel.do?rcp_no=20230814002457&dcm_no=9392959&lang=ko'  "
   ]
  },
  {
   "cell_type": "code",
   "execution_count": 14,
   "id": "7ddb3c5f",
   "metadata": {},
   "outputs": [],
   "source": [
    "from io import BytesIO\n",
    "import pandas as pd"
   ]
  },
  {
   "cell_type": "code",
   "execution_count": 15,
   "id": "9251ef0a",
   "metadata": {},
   "outputs": [
    {
     "data": {
      "text/html": [
       "<div>\n",
       "<style scoped>\n",
       "    .dataframe tbody tr th:only-of-type {\n",
       "        vertical-align: middle;\n",
       "    }\n",
       "\n",
       "    .dataframe tbody tr th {\n",
       "        vertical-align: top;\n",
       "    }\n",
       "\n",
       "    .dataframe thead th {\n",
       "        text-align: right;\n",
       "    }\n",
       "</style>\n",
       "<table border=\"1\" class=\"dataframe\">\n",
       "  <thead>\n",
       "    <tr style=\"text-align: right;\">\n",
       "      <th></th>\n",
       "      <th>Unnamed: 0</th>\n",
       "      <th>Unnamed: 1</th>\n",
       "      <th>Unnamed: 2</th>\n",
       "      <th>Unnamed: 3</th>\n",
       "      <th>Unnamed: 4</th>\n",
       "      <th>Unnamed: 5</th>\n",
       "    </tr>\n",
       "  </thead>\n",
       "  <tbody>\n",
       "    <tr>\n",
       "      <th>0</th>\n",
       "      <td>문서정보</td>\n",
       "      <td>NaN</td>\n",
       "      <td>NaN</td>\n",
       "      <td>NaN</td>\n",
       "      <td>NaN</td>\n",
       "      <td>NaN</td>\n",
       "    </tr>\n",
       "    <tr>\n",
       "      <th>1</th>\n",
       "      <td>보고서 유형 : 반기보고서</td>\n",
       "      <td>정정공시여부 : 아니오</td>\n",
       "      <td>NaN</td>\n",
       "      <td>NaN</td>\n",
       "      <td>NaN</td>\n",
       "      <td>NaN</td>\n",
       "    </tr>\n",
       "    <tr>\n",
       "      <th>2</th>\n",
       "      <td>NaN</td>\n",
       "      <td>NaN</td>\n",
       "      <td>NaN</td>\n",
       "      <td>NaN</td>\n",
       "      <td>NaN</td>\n",
       "      <td>NaN</td>\n",
       "    </tr>\n",
       "    <tr>\n",
       "      <th>3</th>\n",
       "      <td>NaN</td>\n",
       "      <td>NaN</td>\n",
       "      <td>NaN</td>\n",
       "      <td>NaN</td>\n",
       "      <td>NaN</td>\n",
       "      <td>NaN</td>\n",
       "    </tr>\n",
       "    <tr>\n",
       "      <th>4</th>\n",
       "      <td>문서작성일 : 2023-06-30</td>\n",
       "      <td>비교표시 재무제표 작성여부 : 예</td>\n",
       "      <td>NaN</td>\n",
       "      <td>NaN</td>\n",
       "      <td>NaN</td>\n",
       "      <td>NaN</td>\n",
       "    </tr>\n",
       "    <tr>\n",
       "      <th>...</th>\n",
       "      <td>...</td>\n",
       "      <td>...</td>\n",
       "      <td>...</td>\n",
       "      <td>...</td>\n",
       "      <td>...</td>\n",
       "      <td>...</td>\n",
       "    </tr>\n",
       "    <tr>\n",
       "      <th>62</th>\n",
       "      <td>재무상태표</td>\n",
       "      <td>유동/비유동법</td>\n",
       "      <td>NaN</td>\n",
       "      <td>NaN</td>\n",
       "      <td>NaN</td>\n",
       "      <td>NaN</td>\n",
       "    </tr>\n",
       "    <tr>\n",
       "      <th>63</th>\n",
       "      <td>포괄손익계산서</td>\n",
       "      <td>손익/기타포괄손익 개별작성</td>\n",
       "      <td>NaN</td>\n",
       "      <td>NaN</td>\n",
       "      <td>NaN</td>\n",
       "      <td>NaN</td>\n",
       "    </tr>\n",
       "    <tr>\n",
       "      <th>64</th>\n",
       "      <td>NaN</td>\n",
       "      <td>비용의 기능</td>\n",
       "      <td>NaN</td>\n",
       "      <td>NaN</td>\n",
       "      <td>NaN</td>\n",
       "      <td>NaN</td>\n",
       "    </tr>\n",
       "    <tr>\n",
       "      <th>65</th>\n",
       "      <td>NaN</td>\n",
       "      <td>세후기타포괄손익</td>\n",
       "      <td>NaN</td>\n",
       "      <td>NaN</td>\n",
       "      <td>NaN</td>\n",
       "      <td>NaN</td>\n",
       "    </tr>\n",
       "    <tr>\n",
       "      <th>66</th>\n",
       "      <td>현금흐름표</td>\n",
       "      <td>간접법</td>\n",
       "      <td>NaN</td>\n",
       "      <td>NaN</td>\n",
       "      <td>NaN</td>\n",
       "      <td>NaN</td>\n",
       "    </tr>\n",
       "  </tbody>\n",
       "</table>\n",
       "<p>67 rows × 6 columns</p>\n",
       "</div>"
      ],
      "text/plain": [
       "            Unnamed: 0          Unnamed: 1 Unnamed: 2 Unnamed: 3 Unnamed: 4  \\\n",
       "0                 문서정보                 NaN        NaN        NaN        NaN   \n",
       "1       보고서 유형 : 반기보고서        정정공시여부 : 아니오        NaN        NaN        NaN   \n",
       "2                  NaN                 NaN        NaN        NaN        NaN   \n",
       "3                  NaN                 NaN        NaN        NaN        NaN   \n",
       "4   문서작성일 : 2023-06-30  비교표시 재무제표 작성여부 : 예        NaN        NaN        NaN   \n",
       "..                 ...                 ...        ...        ...        ...   \n",
       "62               재무상태표             유동/비유동법        NaN        NaN        NaN   \n",
       "63             포괄손익계산서      손익/기타포괄손익 개별작성        NaN        NaN        NaN   \n",
       "64                 NaN              비용의 기능        NaN        NaN        NaN   \n",
       "65                 NaN            세후기타포괄손익        NaN        NaN        NaN   \n",
       "66               현금흐름표                 간접법        NaN        NaN        NaN   \n",
       "\n",
       "   Unnamed: 5  \n",
       "0         NaN  \n",
       "1         NaN  \n",
       "2         NaN  \n",
       "3         NaN  \n",
       "4         NaN  \n",
       "..        ...  \n",
       "62        NaN  \n",
       "63        NaN  \n",
       "64        NaN  \n",
       "65        NaN  \n",
       "66        NaN  \n",
       "\n",
       "[67 rows x 6 columns]"
      ]
     },
     "execution_count": 15,
     "metadata": {},
     "output_type": "execute_result"
    }
   ],
   "source": [
    "resp = requests.get(url, headers={\"user-agent\": user})\n",
    "\n",
    "from io import BytesIO\n",
    "import pandas as pd\n",
    "\n",
    "table=BytesIO(resp.content)\n",
    "pd.read_excel(table)"
   ]
  },
  {
   "cell_type": "code",
   "execution_count": 16,
   "id": "74473a11",
   "metadata": {},
   "outputs": [],
   "source": [
    "test=pd.read_excel(table, sheet_name=\"연결 재무상태표\", skiprows=5) #table의 어떤 시트에서 5개 제외하고 읽은 데이터를 bs에 저장"
   ]
  },
  {
   "cell_type": "code",
   "execution_count": 17,
   "id": "3a3da336",
   "metadata": {},
   "outputs": [],
   "source": [
    "test.to_csv(\"연결 재무상태표.csv\", encoding=\"euc-kr\") #이건 유튜버용. csv파일이라 엑셀에서 조심하라고 함"
   ]
  },
  {
   "cell_type": "code",
   "execution_count": 18,
   "id": "a673addb",
   "metadata": {},
   "outputs": [],
   "source": [
    "pocket=[\"연결 재무상태표\", \"연결 손익계산서\", \"연결 현금흐름표\"]"
   ]
  },
  {
   "cell_type": "code",
   "execution_count": 19,
   "id": "0686d4b2",
   "metadata": {},
   "outputs": [],
   "source": [
    "for sheet in pocket:\n",
    "    test=pd.read_excel(table, sheet_name=sheet, skiprows=5)\n",
    "    test.to_csv(sheet+\".csv\",encoding=\"euc-kr\")"
   ]
  },
  {
   "cell_type": "code",
   "execution_count": 20,
   "id": "8e25ceae",
   "metadata": {
    "scrolled": true
   },
   "outputs": [],
   "source": [
    "df=pd.read_csv('no.csv') #rcp,dcm"
   ]
  },
  {
   "cell_type": "code",
   "execution_count": 22,
   "id": "c941a75b",
   "metadata": {
    "scrolled": false
   },
   "outputs": [
    {
     "data": {
      "text/html": [
       "<div>\n",
       "<style scoped>\n",
       "    .dataframe tbody tr th:only-of-type {\n",
       "        vertical-align: middle;\n",
       "    }\n",
       "\n",
       "    .dataframe tbody tr th {\n",
       "        vertical-align: top;\n",
       "    }\n",
       "\n",
       "    .dataframe thead th {\n",
       "        text-align: right;\n",
       "    }\n",
       "</style>\n",
       "<table border=\"1\" class=\"dataframe\">\n",
       "  <thead>\n",
       "    <tr style=\"text-align: right;\">\n",
       "      <th></th>\n",
       "      <th>period</th>\n",
       "      <th>rcp</th>\n",
       "      <th>dcm</th>\n",
       "    </tr>\n",
       "  </thead>\n",
       "  <tbody>\n",
       "    <tr>\n",
       "      <th>0</th>\n",
       "      <td>23.06</td>\n",
       "      <td>20230814002457</td>\n",
       "      <td>9392959</td>\n",
       "    </tr>\n",
       "    <tr>\n",
       "      <th>1</th>\n",
       "      <td>22.12</td>\n",
       "      <td>20230315001030</td>\n",
       "      <td>9059749</td>\n",
       "    </tr>\n",
       "    <tr>\n",
       "      <th>2</th>\n",
       "      <td>21.12</td>\n",
       "      <td>20220316001052</td>\n",
       "      <td>8466511</td>\n",
       "    </tr>\n",
       "    <tr>\n",
       "      <th>3</th>\n",
       "      <td>20.12</td>\n",
       "      <td>20220217001036</td>\n",
       "      <td>8392746</td>\n",
       "    </tr>\n",
       "    <tr>\n",
       "      <th>4</th>\n",
       "      <td>19.12</td>\n",
       "      <td>20220217001012</td>\n",
       "      <td>8392681</td>\n",
       "    </tr>\n",
       "  </tbody>\n",
       "</table>\n",
       "</div>"
      ],
      "text/plain": [
       "   period             rcp      dcm\n",
       "0   23.06  20230814002457  9392959\n",
       "1   22.12  20230315001030  9059749\n",
       "2   21.12  20220316001052  8466511\n",
       "3   20.12  20220217001036  8392746\n",
       "4   19.12  20220217001012  8392681"
      ]
     },
     "execution_count": 22,
     "metadata": {},
     "output_type": "execute_result"
    }
   ],
   "source": [
    "df"
   ]
  },
  {
   "cell_type": "code",
   "execution_count": 27,
   "id": "c3c5d404",
   "metadata": {},
   "outputs": [],
   "source": [
    "def download(period, rcp, dcm, company):\n",
    "    url=\"https://dart.fss.or.kr/pdf/download/excel.do?rcp_no={}&dcm_no={}&lang=ko\".format(rcp,dcm)\n",
    "    resp = requests.get(url, headers={\"user-agent\": user})\n",
    "    table=BytesIO(resp.content)\n",
    "    for sheet in pocket:\n",
    "        print(\"*\")\n",
    "        test=pd.read_excel(table, sheet_name=sheet, skiprows=5)\n",
    "        test.to_csv(company+str(period)+sheet+\".csv\",encoding=\"euc-kr\")\n",
    "        \n",
    "#period는 str붙이는거 중요. 문자열과 숫자를 같이 결합한다고 에러 뜰 수 있음. "
   ]
  },
  {
   "cell_type": "code",
   "execution_count": 28,
   "id": "b0d3022a",
   "metadata": {
    "scrolled": true
   },
   "outputs": [
    {
     "name": "stdout",
     "output_type": "stream",
     "text": [
      "*\n",
      "*\n",
      "*\n",
      "*\n",
      "*\n",
      "*\n",
      "*\n",
      "*\n",
      "*\n",
      "*\n",
      "*\n",
      "*\n",
      "*\n",
      "*\n",
      "*\n"
     ]
    }
   ],
   "source": [
    "for period, rcp, dcm in zip(df['period'].values, df['rcp'].values, df['dcm'].values):\n",
    "    download(period, rcp, dcm,'현대자동차')"
   ]
  },
  {
   "cell_type": "code",
   "execution_count": null,
   "id": "48a6a0b4",
   "metadata": {},
   "outputs": [],
   "source": []
  }
 ],
 "metadata": {
  "kernelspec": {
   "display_name": "Python 3 (ipykernel)",
   "language": "python",
   "name": "python3"
  },
  "language_info": {
   "codemirror_mode": {
    "name": "ipython",
    "version": 3
   },
   "file_extension": ".py",
   "mimetype": "text/x-python",
   "name": "python",
   "nbconvert_exporter": "python",
   "pygments_lexer": "ipython3",
   "version": "3.11.4"
  }
 },
 "nbformat": 4,
 "nbformat_minor": 5
}
