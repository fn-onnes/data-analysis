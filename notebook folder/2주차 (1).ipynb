{
 "cells": [
  {
   "cell_type": "markdown",
   "id": "a6bc253d",
   "metadata": {},
   "source": [
    "### 마크다운(markdown)\n",
    "- 텍스트 문서의 양식을 편집하는 방법 => 쉽게말해, 텍스트를 정리할때 사용한다 \n",
    "- code mode -> markdown 변경한다\n",
    "- esc+m을 누르면 마크다운,  esc+y를 누르면 code로 셀 속성 변경\n",
    "\n",
    "인용구를 사용할때는 \">\"를 넣어주면 되요<br>\n",
    "> 안녕하세요\n",
    ">> 안녕하세요<br>\n",
    "이탤릭체 => *이탤릭체* _이탤릭체_<br>\n",
    "볼트체 => **볼트** __볼트__ <br>\n",
    "```pyton\n",
    "var1=1\n",
    "var2=2\n",
    "print(var1+var2)```"
   ]
  },
  {
   "cell_type": "markdown",
   "id": "db6bfa95",
   "metadata": {},
   "source": [
    "#### 계산\n",
    "- 1. 사칙연산가능\n",
    "- 2. 제곱을 표현할때는 **\n",
    "- 3. _ 라는 기호: 이전표현식을 들고들어온다"
   ]
  },
  {
   "cell_type": "code",
   "execution_count": 12,
   "id": "45909ddc",
   "metadata": {},
   "outputs": [
    {
     "data": {
      "text/plain": [
       "-2"
      ]
     },
     "execution_count": 12,
     "metadata": {},
     "output_type": "execute_result"
    }
   ],
   "source": [
    "1-3"
   ]
  },
  {
   "cell_type": "code",
   "execution_count": 13,
   "id": "65f9244e",
   "metadata": {},
   "outputs": [
    {
     "data": {
      "text/plain": [
       "0"
      ]
     },
     "execution_count": 13,
     "metadata": {},
     "output_type": "execute_result"
    }
   ],
   "source": [
    "_+2"
   ]
  },
  {
   "cell_type": "code",
   "execution_count": 16,
   "id": "c29bc1bc",
   "metadata": {},
   "outputs": [
    {
     "data": {
      "text/plain": [
       "2"
      ]
     },
     "execution_count": 16,
     "metadata": {},
     "output_type": "execute_result"
    }
   ],
   "source": [
    "_+1\n",
    "# 이전표현식을 가지고 오는 _ "
   ]
  },
  {
   "cell_type": "code",
   "execution_count": 19,
   "id": "174b0507",
   "metadata": {},
   "outputs": [],
   "source": [
    "# 변수받기기능(변수생성)\n",
    "sum=2+4"
   ]
  },
  {
   "cell_type": "code",
   "execution_count": 20,
   "id": "eed6bb7e",
   "metadata": {},
   "outputs": [
    {
     "data": {
      "text/plain": [
       "6"
      ]
     },
     "execution_count": 20,
     "metadata": {},
     "output_type": "execute_result"
    }
   ],
   "source": [
    "sum"
   ]
  },
  {
   "cell_type": "markdown",
   "id": "17c9ea37",
   "metadata": {},
   "source": [
    "#### 출력: 일반출력 vs 표준출력\n",
    "1+1\n",
    "- 일반출력: 산식을 돌린다음, 바로 토해낸다.(2를 출력) <br>\n",
    ": 명령어를 일괄적이 아닌 하나 해석하고 결과가 산출된다\n",
    "\n",
    "- 표준출력: 1과 1를 더한다음에 출력을하고 삭제해버린다 <br>\n",
    ": 명령어를 읽고 평가한뒤 출력한다 <br>\n",
    "REPL(read eval print loop) => 주피터는 REPL에 최적합되어있는 프로그램 "
   ]
  },
  {
   "cell_type": "code",
   "execution_count": 21,
   "id": "baf097db",
   "metadata": {},
   "outputs": [
    {
     "name": "stdout",
     "output_type": "stream",
     "text": [
      "6\n"
     ]
    }
   ],
   "source": [
    "print(sum)"
   ]
  },
  {
   "cell_type": "code",
   "execution_count": 22,
   "id": "4e9bedbc",
   "metadata": {},
   "outputs": [
    {
     "data": {
      "text/plain": [
       "3"
      ]
     },
     "execution_count": 22,
     "metadata": {},
     "output_type": "execute_result"
    }
   ],
   "source": [
    "var1=1\n",
    "var2=2\n",
    "var1+var2"
   ]
  },
  {
   "cell_type": "code",
   "execution_count": 104,
   "id": "6c21098a",
   "metadata": {},
   "outputs": [
    {
     "name": "stdout",
     "output_type": "stream",
     "text": [
      "3\n"
     ]
    }
   ],
   "source": [
    "var1=1\n",
    "var2=2\n",
    "print(var1+var2)"
   ]
  },
  {
   "cell_type": "code",
   "execution_count": 105,
   "id": "23f61c3e",
   "metadata": {},
   "outputs": [
    {
     "name": "stdout",
     "output_type": "stream",
     "text": [
      "2262332762416\n",
      "2262332762448\n"
     ]
    }
   ],
   "source": [
    "print(id(var1))\n",
    "print(id(var2))"
   ]
  },
  {
   "cell_type": "code",
   "execution_count": 26,
   "id": "55d28314",
   "metadata": {},
   "outputs": [
    {
     "name": "stdout",
     "output_type": "stream",
     "text": [
      "2262332762480\n"
     ]
    }
   ],
   "source": [
    "var1=3\n",
    "print(id(var1))"
   ]
  },
  {
   "cell_type": "code",
   "execution_count": 27,
   "id": "233dc0a6",
   "metadata": {},
   "outputs": [],
   "source": [
    "var1=\"오늘 덥다\"\n",
    "var2=\"공부하기 싫다\""
   ]
  },
  {
   "cell_type": "code",
   "execution_count": 28,
   "id": "55f871bf",
   "metadata": {},
   "outputs": [
    {
     "name": "stdout",
     "output_type": "stream",
     "text": [
      "오늘 덥다\n"
     ]
    }
   ],
   "source": [
    "print(var1)"
   ]
  },
  {
   "cell_type": "markdown",
   "id": "7ca08a89",
   "metadata": {},
   "source": [
    "#### data_type: 자료의 기능과 역할을 구분하는 것(값의 형태, 모양)\n",
    "- 1. 문자형(str): 문자\n",
    "- 2. 정수형(int) => 소수점x\n",
    "- 3. 실수형(float) => 소수점o\n",
    "- 4. 둘중하나(bool) => 참과 거짓일때 표현한다 <br>\n",
    "type(값) => 해당 자료의 형태를 확인시켜준다. \n"
   ]
  },
  {
   "cell_type": "code",
   "execution_count": 34,
   "id": "ff00528a",
   "metadata": {},
   "outputs": [
    {
     "name": "stdout",
     "output_type": "stream",
     "text": [
      "<class 'int'>\n",
      "<class 'float'>\n",
      "<class 'str'>\n",
      "<class 'str'>\n"
     ]
    }
   ],
   "source": [
    "print(type(10))\n",
    "print(type(10.1))\n",
    "print(type(\"A\"))\n",
    "print(type(\"10\"))"
   ]
  },
  {
   "cell_type": "code",
   "execution_count": 36,
   "id": "3769b2c3",
   "metadata": {},
   "outputs": [
    {
     "name": "stdout",
     "output_type": "stream",
     "text": [
      "문자\n"
     ]
    }
   ],
   "source": [
    "print(\"문자\")"
   ]
  },
  {
   "cell_type": "code",
   "execution_count": 39,
   "id": "c32b6c6a",
   "metadata": {},
   "outputs": [
    {
     "name": "stdout",
     "output_type": "stream",
     "text": [
      "오늘 수업은: 3 시간\n",
      "오늘 수업은: 3 시간\n"
     ]
    }
   ],
   "source": [
    "# 숫자와 문자도 한번에 출력가능\n",
    "print(\"오늘 수업은:\", 3, \"시간\")\n",
    "print(\"오늘 수업은:\", \"3\", \"시간\")"
   ]
  },
  {
   "cell_type": "code",
   "execution_count": 41,
   "id": "deaf6587",
   "metadata": {},
   "outputs": [
    {
     "name": "stdout",
     "output_type": "stream",
     "text": [
      "38000000000.0\n",
      "3.8e-10\n"
     ]
    }
   ],
   "source": [
    "# 지수표현 \n",
    "print(3.80e+10)\n",
    "print(3.80e-10)"
   ]
  },
  {
   "cell_type": "code",
   "execution_count": 44,
   "id": "0c8811cf",
   "metadata": {},
   "outputs": [
    {
     "name": "stdout",
     "output_type": "stream",
     "text": [
      "<class 'int'>\n",
      "7.0\n",
      "7\n"
     ]
    }
   ],
   "source": [
    "print(type(7))\n",
    "print(float(7))\n",
    "print(int(7.222))"
   ]
  },
  {
   "cell_type": "code",
   "execution_count": 45,
   "id": "a31a7f3f",
   "metadata": {},
   "outputs": [
    {
     "name": "stdout",
     "output_type": "stream",
     "text": [
      "True\n",
      "False\n"
     ]
    }
   ],
   "source": [
    "# 둘중하나(bool)\n",
    "print(True)\n",
    "print(False)"
   ]
  },
  {
   "cell_type": "code",
   "execution_count": 48,
   "id": "9e3436fb",
   "metadata": {},
   "outputs": [
    {
     "name": "stdout",
     "output_type": "stream",
     "text": [
      "False\n",
      "True\n",
      "True\n",
      "True\n"
     ]
    }
   ],
   "source": [
    "# bool를 숫자로 표현하는 경우 0:False다!\n",
    "print(bool(0))\n",
    "print(bool(1))\n",
    "print(bool(3))\n",
    "print(bool(-3))"
   ]
  },
  {
   "cell_type": "code",
   "execution_count": 50,
   "id": "5bb453e4",
   "metadata": {},
   "outputs": [
    {
     "name": "stdout",
     "output_type": "stream",
     "text": [
      "False\n",
      "True\n"
     ]
    }
   ],
   "source": [
    "print(bool(0.0))\n",
    "print(bool(0.01))"
   ]
  },
  {
   "cell_type": "code",
   "execution_count": 52,
   "id": "8434c10d",
   "metadata": {},
   "outputs": [
    {
     "name": "stdout",
     "output_type": "stream",
     "text": [
      "True\n",
      "False\n"
     ]
    }
   ],
   "source": [
    "# 문자형(str)일때 empty value => False\n",
    "print(bool(\"A\"))\n",
    "print(bool(\"\"))"
   ]
  },
  {
   "cell_type": "markdown",
   "id": "85a64279",
   "metadata": {},
   "source": [
    "#### 연산자\n",
    "- 1. 산술연산자: +,-,/,*,%,//,** <br>\n",
    "%: 나머지반환<br>\n",
    "//: 몫반환<br>\n",
    "- 2. 관계연산자: ==, >=, <=, !=, <, ><br>\n",
    "동등비교나 크기비교할때 사용한다<br>\n",
    "- 3. 논리연산자: and, or, not<br>\n",
    "- 4. 대입연산자: =, (a,b) * <br>\n",
    "할당, a와 b를 교환, 패킹(묶어서 생각한다)"
   ]
  },
  {
   "cell_type": "code",
   "execution_count": 55,
   "id": "2a644b87",
   "metadata": {},
   "outputs": [
    {
     "name": "stdout",
     "output_type": "stream",
     "text": [
      "30\n",
      "30.0\n"
     ]
    }
   ],
   "source": [
    "# 실수 => 정수\n",
    "a=int(10.6)\n",
    "b=int(20.44)\n",
    "add=a+b\n",
    "print(add)\n",
    "# 정수 => 실수\n",
    "a=float(10)\n",
    "b=float(20)\n",
    "add=a+b\n",
    "print(add)"
   ]
  },
  {
   "cell_type": "code",
   "execution_count": 57,
   "id": "d137bd2d",
   "metadata": {},
   "outputs": [
    {
     "name": "stdout",
     "output_type": "stream",
     "text": [
      "<class 'str'>\n",
      "100\n"
     ]
    }
   ],
   "source": [
    "st=\"10\"\n",
    "print(type(st))\n",
    "print(int(st)**2)"
   ]
  },
  {
   "cell_type": "code",
   "execution_count": 62,
   "id": "e08ac012",
   "metadata": {},
   "outputs": [
    {
     "name": "stdout",
     "output_type": "stream",
     "text": [
      "21\n",
      "13\n",
      "4.25\n",
      "68\n",
      "1\n",
      "4\n"
     ]
    }
   ],
   "source": [
    "# 연산자 \n",
    "num1= 17\n",
    "num2= 4\n",
    "print(num1+num2)\n",
    "print(num1-num2)\n",
    "print(num1/num2)\n",
    "print(num1*num2)\n",
    "print(num1%num2)\n",
    "# 나머지 반환\n",
    "print(num1//num2)\n",
    "# 몫 반환"
   ]
  },
  {
   "cell_type": "code",
   "execution_count": 68,
   "id": "188c6e10",
   "metadata": {},
   "outputs": [
    {
     "name": "stdout",
     "output_type": "stream",
     "text": [
      "123456\n"
     ]
    }
   ],
   "source": [
    "# case1\n",
    "num='123'\n",
    "num1=\"456\"\n",
    "print(num+num1)\n",
    "# 문자형(str)의 덧셈은 연결의 계념이다 \n",
    "# (숫자형의 사칙연산중에서 덧셈만가능하고, 숫자와 문자가 혼합되어있을때는 이마저 불가능)"
   ]
  },
  {
   "cell_type": "code",
   "execution_count": 67,
   "id": "a1fc8ed4",
   "metadata": {},
   "outputs": [
    {
     "ename": "TypeError",
     "evalue": "unsupported operand type(s) for +: 'int' and 'str'",
     "output_type": "error",
     "traceback": [
      "\u001b[1;31m---------------------------------------------------------------------------\u001b[0m",
      "\u001b[1;31mTypeError\u001b[0m                                 Traceback (most recent call last)",
      "\u001b[1;32m~\\AppData\\Local\\Temp\\ipykernel_6768\\2830167605.py\u001b[0m in \u001b[0;36m<module>\u001b[1;34m\u001b[0m\n\u001b[0;32m      3\u001b[0m \u001b[0mnum1\u001b[0m\u001b[1;33m=\u001b[0m\u001b[1;36m2\u001b[0m\u001b[1;33m\u001b[0m\u001b[1;33m\u001b[0m\u001b[0m\n\u001b[0;32m      4\u001b[0m \u001b[0mnum2\u001b[0m\u001b[1;33m=\u001b[0m\u001b[1;34m\"3\"\u001b[0m\u001b[1;33m\u001b[0m\u001b[1;33m\u001b[0m\u001b[0m\n\u001b[1;32m----> 5\u001b[1;33m \u001b[0mprint\u001b[0m\u001b[1;33m(\u001b[0m\u001b[0mnum\u001b[0m\u001b[1;33m+\u001b[0m\u001b[0mnum1\u001b[0m\u001b[1;33m+\u001b[0m\u001b[0mnum2\u001b[0m\u001b[1;33m)\u001b[0m\u001b[1;33m\u001b[0m\u001b[1;33m\u001b[0m\u001b[0m\n\u001b[0m",
      "\u001b[1;31mTypeError\u001b[0m: unsupported operand type(s) for +: 'int' and 'str'"
     ]
    }
   ],
   "source": [
    "# case2\n",
    "num=1\n",
    "num1=2\n",
    "num2=\"3\"\n",
    "print(num+num1+num2)"
   ]
  },
  {
   "cell_type": "code",
   "execution_count": 70,
   "id": "ac503da5",
   "metadata": {},
   "outputs": [
    {
     "name": "stdout",
     "output_type": "stream",
     "text": [
      "놀고싶다 놀고싶다 놀고싶다 \n"
     ]
    }
   ],
   "source": [
    "# case3\n",
    "print(\"놀고싶다 \"*3)\n",
    "# 문자형은 띄어쓰기 문자로 본다. "
   ]
  },
  {
   "cell_type": "markdown",
   "id": "310cf405",
   "metadata": {},
   "source": [
    "#### 길이구하기: len()함수를 사용하여 문자길이를 구해보자"
   ]
  },
  {
   "cell_type": "code",
   "execution_count": 71,
   "id": "6d2e9259",
   "metadata": {},
   "outputs": [
    {
     "name": "stdout",
     "output_type": "stream",
     "text": [
      "7\n"
     ]
    }
   ],
   "source": [
    "uni=\"dongguk\"\n",
    "print(len(uni))"
   ]
  },
  {
   "cell_type": "code",
   "execution_count": 72,
   "id": "17c45d70",
   "metadata": {},
   "outputs": [
    {
     "name": "stdout",
     "output_type": "stream",
     "text": [
      "8\n"
     ]
    }
   ],
   "source": [
    "uni=\"dong guk\"\n",
    "print(len(uni))\n",
    "# 띄어쓰기도 문자로 인식한다"
   ]
  },
  {
   "cell_type": "code",
   "execution_count": 106,
   "id": "4ba24008",
   "metadata": {},
   "outputs": [
    {
     "name": "stdout",
     "output_type": "stream",
     "text": [
      "6\n"
     ]
    }
   ],
   "source": [
    "uni=\"123456\"\n",
    "print(len(uni))"
   ]
  },
  {
   "cell_type": "markdown",
   "id": "ad432b8f",
   "metadata": {},
   "source": [
    "#### 논리 연산자의 우선순위 확인"
   ]
  },
  {
   "cell_type": "code",
   "execution_count": 75,
   "id": "95bec3c9",
   "metadata": {},
   "outputs": [
    {
     "name": "stdout",
     "output_type": "stream",
     "text": [
      "True\n",
      "False\n"
     ]
    }
   ],
   "source": [
    "print(True and True)\n",
    "print(False and False)\n"
   ]
  },
  {
   "cell_type": "code",
   "execution_count": 78,
   "id": "ced6a2ee",
   "metadata": {},
   "outputs": [
    {
     "name": "stdout",
     "output_type": "stream",
     "text": [
      "False\n",
      "False\n"
     ]
    }
   ],
   "source": [
    "print(True and False)\n",
    "print(False and True)"
   ]
  },
  {
   "cell_type": "code",
   "execution_count": 79,
   "id": "f05728f5",
   "metadata": {},
   "outputs": [
    {
     "name": "stdout",
     "output_type": "stream",
     "text": [
      "True\n",
      "False\n"
     ]
    }
   ],
   "source": [
    "print(True or True)\n",
    "print(False or False)"
   ]
  },
  {
   "cell_type": "code",
   "execution_count": 80,
   "id": "9878a448",
   "metadata": {},
   "outputs": [
    {
     "name": "stdout",
     "output_type": "stream",
     "text": [
      "True\n",
      "True\n"
     ]
    }
   ],
   "source": [
    "print(True or False)\n",
    "print(False or True)"
   ]
  },
  {
   "cell_type": "code",
   "execution_count": 82,
   "id": "49eaf9b2",
   "metadata": {},
   "outputs": [
    {
     "name": "stdout",
     "output_type": "stream",
     "text": [
      "True\n"
     ]
    }
   ],
   "source": [
    "print(2==2)"
   ]
  },
  {
   "cell_type": "code",
   "execution_count": 83,
   "id": "6fbab2ae",
   "metadata": {},
   "outputs": [
    {
     "name": "stdout",
     "output_type": "stream",
     "text": [
      "False\n"
     ]
    }
   ],
   "source": [
    "print(2!=2)"
   ]
  },
  {
   "cell_type": "markdown",
   "id": "14ccc680",
   "metadata": {},
   "source": [
    "#### 인덱스\n",
    "[ ] 를 인덱스(index) => 문자열의 순서에서 해당하는 문자를 표시하는 역할<br>\n",
    "- 인덱싱(indexing)  => 한문자만 가르킨다(뜻)<br>\n",
    "- 슬라이싱(slicing) => 한문자만 선택되는 것이 아니라 여러문자를 \"잘라낸다\"라는 의미<br>"
   ]
  },
  {
   "cell_type": "code",
   "execution_count": 87,
   "id": "54353a6c",
   "metadata": {},
   "outputs": [
    {
     "name": "stdout",
     "output_type": "stream",
     "text": [
      "d\n",
      "g\n"
     ]
    }
   ],
   "source": [
    "uni=\"dongguk\"\n",
    "print(uni[0])\n",
    "print(uni[3])\n",
    "# donggk이라는 문자형변수를 uni라는 이름으로 받고\n",
    "# uni를 인덱스의 1번에 해당하는 자리를 인덱싱하고\n",
    "# 표준출력해줘\n",
    "\n",
    "# 인덱싱을 할때는 인덱스에 번호를 삽입해주는데\n",
    "# 시작번호는 0번부터먹는다!"
   ]
  },
  {
   "cell_type": "code",
   "execution_count": 91,
   "id": "876e8fb4",
   "metadata": {},
   "outputs": [
    {
     "name": "stdout",
     "output_type": "stream",
     "text": [
      "k\n",
      "u\n"
     ]
    }
   ],
   "source": [
    "uni=\"donggu k\"\n",
    "print(uni[-1])\n",
    "print(uni[-3])\n",
    "# 역으로 인덱싱을 할때는 음수부호를 붙여주세요\n",
    "# 단, 이때 인덱싱 번호는 -1부터 시작합니다. \n",
    "# -0은 없으니깐 이해는 편하네요\n",
    "# 띄어쓰기 문자에서는 인식하기 때문에 잘 보고 번호 쓰세요"
   ]
  },
  {
   "cell_type": "markdown",
   "id": "cf5f04fb",
   "metadata": {},
   "source": [
    "#### 슬라이싱\n",
    "- 자동차 뒤에 4자리만 추출하고 싶다면??"
   ]
  },
  {
   "cell_type": "code",
   "execution_count": 107,
   "id": "ea9bff1c",
   "metadata": {},
   "outputs": [
    {
     "name": "stdout",
     "output_type": "stream",
     "text": [
      "어\n",
      "어\n",
      "0123\n",
      "0123\n",
      "0123\n",
      "20어\n",
      "20어\n"
     ]
    }
   ],
   "source": [
    "license_plate=\"20어 0123\"\n",
    "print(license_plate[2])\n",
    "print(license_plate[-6])\n",
    "# 슬라이싱에서는 : => 시작인덱스부터 끝인덱스까지 뽑아줘~\n",
    "print(license_plate[4:])\n",
    "print(license_plate[4:8])\n",
    "print(license_plate[-4:])\n",
    "\n",
    "print(license_plate[:3])\n",
    "print(license_plate[0:3])\n",
    "\n"
   ]
  },
  {
   "cell_type": "code",
   "execution_count": 110,
   "id": "155fcb44",
   "metadata": {},
   "outputs": [
    {
     "name": "stdout",
     "output_type": "stream",
     "text": [
      "20어\n"
     ]
    }
   ],
   "source": [
    "license_plate=\"20어 0123\"\n",
    "print(license_plate[:3])\n"
   ]
  },
  {
   "cell_type": "code",
   "execution_count": null,
   "id": "61a2bc6a",
   "metadata": {},
   "outputs": [],
   "source": []
  },
  {
   "cell_type": "code",
   "execution_count": null,
   "id": "8438b209",
   "metadata": {},
   "outputs": [],
   "source": []
  },
  {
   "cell_type": "code",
   "execution_count": null,
   "id": "321e83f8",
   "metadata": {},
   "outputs": [],
   "source": []
  },
  {
   "cell_type": "code",
   "execution_count": null,
   "id": "47bd0cb6",
   "metadata": {},
   "outputs": [],
   "source": []
  },
  {
   "cell_type": "code",
   "execution_count": null,
   "id": "9b318d98",
   "metadata": {},
   "outputs": [],
   "source": []
  },
  {
   "cell_type": "code",
   "execution_count": null,
   "id": "cd945e2f",
   "metadata": {},
   "outputs": [],
   "source": []
  }
 ],
 "metadata": {
  "kernelspec": {
   "display_name": "Python 3 (ipykernel)",
   "language": "python",
   "name": "python3"
  },
  "language_info": {
   "codemirror_mode": {
    "name": "ipython",
    "version": 3
   },
   "file_extension": ".py",
   "mimetype": "text/x-python",
   "name": "python",
   "nbconvert_exporter": "python",
   "pygments_lexer": "ipython3",
   "version": "3.9.13"
  }
 },
 "nbformat": 4,
 "nbformat_minor": 5
}
