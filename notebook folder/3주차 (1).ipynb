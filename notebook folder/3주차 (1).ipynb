{
 "cells": [
  {
   "cell_type": "markdown",
   "id": "9141e799",
   "metadata": {},
   "source": [
    "### 마크다운(markdown)\n",
    "- 텍스트 문서의 양식을 편집하는 방법 => 쉽게말해, 텍스트를 정리할때 사용한다 \n",
    "- code mode -> markdown 변경한다\n",
    "- esc+m을 누르면 마크다운,<br>  esc+y를 누르면 code로 셀 속성 변경\n",
    "\n",
    "인용구를 사용할때는 \">\"를 넣어주면 되요<br>\n",
    "> 안녕하세요\n",
    ">> 안녕하세요<br>\n",
    ">>>이탤릭체 => *이탤릭체* _이탤릭체_<br>\n",
    ">>>>볼트체 => **볼트** __볼트__ <br>\n",
    "```pyton\n",
    "var1=1\n",
    "var2=2\n",
    "print(var1+var2)```"
   ]
  },
  {
   "cell_type": "markdown",
   "id": "db6bfa95",
   "metadata": {},
   "source": [
    "#### 계산\n",
    "- 1. 사칙연산가능\n",
    "- 2. 제곱을 표현할때는 **\n",
    "- 3. _ 라는 기호: 이전표현식을 들고들어온다"
   ]
  },
  {
   "cell_type": "code",
   "execution_count": 21,
   "id": "45909ddc",
   "metadata": {},
   "outputs": [
    {
     "data": {
      "text/plain": [
       "-2"
      ]
     },
     "execution_count": 21,
     "metadata": {},
     "output_type": "execute_result"
    }
   ],
   "source": [
    "1-3"
   ]
  },
  {
   "cell_type": "code",
   "execution_count": 2,
   "id": "65f9244e",
   "metadata": {},
   "outputs": [
    {
     "data": {
      "text/plain": [
       "0"
      ]
     },
     "execution_count": 2,
     "metadata": {},
     "output_type": "execute_result"
    }
   ],
   "source": [
    "_+2"
   ]
  },
  {
   "cell_type": "code",
   "execution_count": 3,
   "id": "c29bc1bc",
   "metadata": {},
   "outputs": [
    {
     "data": {
      "text/plain": [
       "1"
      ]
     },
     "execution_count": 3,
     "metadata": {},
     "output_type": "execute_result"
    }
   ],
   "source": [
    "_+1\n",
    "# 이전표현식을 가지고 오는 _ "
   ]
  },
  {
   "cell_type": "code",
   "execution_count": 4,
   "id": "174b0507",
   "metadata": {},
   "outputs": [],
   "source": [
    "# 변수받기기능(변수생성)\n",
    "sum=2+4"
   ]
  },
  {
   "cell_type": "code",
   "execution_count": 5,
   "id": "eed6bb7e",
   "metadata": {},
   "outputs": [
    {
     "data": {
      "text/plain": [
       "6"
      ]
     },
     "execution_count": 5,
     "metadata": {},
     "output_type": "execute_result"
    }
   ],
   "source": [
    "sum"
   ]
  },
  {
   "cell_type": "code",
   "execution_count": 6,
   "id": "91b31cf7",
   "metadata": {},
   "outputs": [
    {
     "name": "stdout",
     "output_type": "stream",
     "text": [
      "6\n"
     ]
    }
   ],
   "source": [
    "print(sum)"
   ]
  },
  {
   "cell_type": "markdown",
   "id": "17c9ea37",
   "metadata": {},
   "source": [
    "#### 출력: 일반출력 vs 표준출력\n",
    "1+1\n",
    "- 일반출력: 산식을 돌린다음, 바로 토해낸다.(2를 출력) <br>\n",
    ": 명령어를 일괄적이 아닌 하나 해석하고 결과가 산출된다\n",
    "\n",
    "- 표준출력: 1과 1를 더한다음에 출력을하고 삭제해버린다 <br>\n",
    ": 명령어를 읽고 평가한뒤 출력한다 <br>\n",
    "REPL(read eval print loop) => 주피터는 REPL에 최적합되어있는 프로그램 "
   ]
  },
  {
   "cell_type": "code",
   "execution_count": 7,
   "id": "baf097db",
   "metadata": {},
   "outputs": [
    {
     "name": "stdout",
     "output_type": "stream",
     "text": [
      "6\n"
     ]
    }
   ],
   "source": [
    "print(sum)"
   ]
  },
  {
   "cell_type": "code",
   "execution_count": 8,
   "id": "4e9bedbc",
   "metadata": {},
   "outputs": [
    {
     "data": {
      "text/plain": [
       "3"
      ]
     },
     "execution_count": 8,
     "metadata": {},
     "output_type": "execute_result"
    }
   ],
   "source": [
    "var1=1\n",
    "var2=2\n",
    "var1+var2"
   ]
  },
  {
   "cell_type": "code",
   "execution_count": 9,
   "id": "6c21098a",
   "metadata": {},
   "outputs": [
    {
     "name": "stdout",
     "output_type": "stream",
     "text": [
      "3\n"
     ]
    }
   ],
   "source": [
    "var1=1\n",
    "var2=2\n",
    "print(var1+var2)"
   ]
  },
  {
   "cell_type": "code",
   "execution_count": 10,
   "id": "23f61c3e",
   "metadata": {},
   "outputs": [
    {
     "name": "stdout",
     "output_type": "stream",
     "text": [
      "140714828686120\n",
      "140714828686152\n"
     ]
    }
   ],
   "source": [
    "print(id(var1))\n",
    "print(id(var2))"
   ]
  },
  {
   "cell_type": "code",
   "execution_count": 11,
   "id": "55d28314",
   "metadata": {},
   "outputs": [
    {
     "name": "stdout",
     "output_type": "stream",
     "text": [
      "140714828686184\n"
     ]
    }
   ],
   "source": [
    "var1=3\n",
    "print(id(var1))"
   ]
  },
  {
   "cell_type": "code",
   "execution_count": 12,
   "id": "233dc0a6",
   "metadata": {},
   "outputs": [],
   "source": [
    "var1=\"오늘 덥다\"\n",
    "var2=\"공부하기 싫다\""
   ]
  },
  {
   "cell_type": "code",
   "execution_count": 13,
   "id": "55f871bf",
   "metadata": {},
   "outputs": [
    {
     "name": "stdout",
     "output_type": "stream",
     "text": [
      "오늘 덥다\n"
     ]
    }
   ],
   "source": [
    "print(var1)"
   ]
  },
  {
   "cell_type": "markdown",
   "id": "7ca08a89",
   "metadata": {},
   "source": [
    "#### data_type: 자료의 기능과 역할을 구분하는 것(값의 형태, 모양)\n",
    "- 1. 문자형(str): 문자\n",
    "- 2. 정수형(int) => 소수점x\n",
    "- 3. 실수형(float) => 소수점o\n",
    "- 4. 둘중하나(bool) => 참과 거짓일때 표현한다 <br>\n",
    "type(값) => 해당 자료의 형태를 확인시켜준다. \n"
   ]
  },
  {
   "cell_type": "code",
   "execution_count": 14,
   "id": "ff00528a",
   "metadata": {},
   "outputs": [
    {
     "name": "stdout",
     "output_type": "stream",
     "text": [
      "<class 'int'>\n",
      "<class 'float'>\n",
      "<class 'str'>\n",
      "<class 'str'>\n"
     ]
    }
   ],
   "source": [
    "print(type(10))\n",
    "print(type(10.1))\n",
    "print(type(\"A\"))\n",
    "print(type(\"10\"))"
   ]
  },
  {
   "cell_type": "code",
   "execution_count": 15,
   "id": "3769b2c3",
   "metadata": {},
   "outputs": [
    {
     "name": "stdout",
     "output_type": "stream",
     "text": [
      "문자\n"
     ]
    }
   ],
   "source": [
    "print(\"문자\")"
   ]
  },
  {
   "cell_type": "code",
   "execution_count": 16,
   "id": "c32b6c6a",
   "metadata": {},
   "outputs": [
    {
     "name": "stdout",
     "output_type": "stream",
     "text": [
      "오늘 수업은: 3 시간\n",
      "오늘 수업은: 3 시간\n"
     ]
    }
   ],
   "source": [
    "# 숫자와 문자도 한번에 출력가능\n",
    "print(\"오늘 수업은:\", 3, \"시간\")\n",
    "print(\"오늘 수업은:\", \"3\", \"시간\")"
   ]
  },
  {
   "cell_type": "code",
   "execution_count": 17,
   "id": "deaf6587",
   "metadata": {},
   "outputs": [
    {
     "name": "stdout",
     "output_type": "stream",
     "text": [
      "38000000000.0\n",
      "3.8e-10\n"
     ]
    }
   ],
   "source": [
    "# 지수표현 \n",
    "print(3.80e+10)\n",
    "print(3.80e-10)"
   ]
  },
  {
   "cell_type": "code",
   "execution_count": 18,
   "id": "0c8811cf",
   "metadata": {},
   "outputs": [
    {
     "name": "stdout",
     "output_type": "stream",
     "text": [
      "<class 'int'>\n",
      "7.0\n",
      "7\n"
     ]
    }
   ],
   "source": [
    "print(type(7))\n",
    "print(float(7))\n",
    "print(int(7.222))"
   ]
  },
  {
   "cell_type": "code",
   "execution_count": 19,
   "id": "a31a7f3f",
   "metadata": {},
   "outputs": [
    {
     "name": "stdout",
     "output_type": "stream",
     "text": [
      "True\n",
      "False\n"
     ]
    }
   ],
   "source": [
    "# 둘중하나(bool)\n",
    "# true false =>  불가능\n",
    "# FALSE TRUE =>  불가능\n",
    "print(True)\n",
    "print(False)"
   ]
  },
  {
   "cell_type": "code",
   "execution_count": 20,
   "id": "818aa0a9",
   "metadata": {},
   "outputs": [
    {
     "ename": "NameError",
     "evalue": "name 'true' is not defined",
     "output_type": "error",
     "traceback": [
      "\u001b[1;31m---------------------------------------------------------------------------\u001b[0m",
      "\u001b[1;31mNameError\u001b[0m                                 Traceback (most recent call last)",
      "\u001b[1;32mc:\\python\\notebook folder\\3주차 (1).ipynb Cell 24\u001b[0m line \u001b[0;36m1\n\u001b[1;32m----> <a href='vscode-notebook-cell:/c%3A/python/notebook%20folder/3%EC%A3%BC%EC%B0%A8%20%281%29.ipynb#X32sZmlsZQ%3D%3D?line=0'>1</a>\u001b[0m \u001b[39mprint\u001b[39m(true)\n",
      "\u001b[1;31mNameError\u001b[0m: name 'true' is not defined"
     ]
    }
   ],
   "source": [
    "print(true)"
   ]
  },
  {
   "cell_type": "code",
   "execution_count": null,
   "id": "9e3436fb",
   "metadata": {},
   "outputs": [
    {
     "name": "stdout",
     "output_type": "stream",
     "text": [
      "False\n",
      "True\n",
      "True\n",
      "True\n"
     ]
    }
   ],
   "source": [
    "# bool를 숫자로 표현하는 경우 0:False다!\n",
    "print(bool(0))\n",
    "print(bool(1))\n",
    "print(bool(3))\n",
    "print(bool(-3))"
   ]
  },
  {
   "cell_type": "code",
   "execution_count": null,
   "id": "5bb453e4",
   "metadata": {},
   "outputs": [
    {
     "name": "stdout",
     "output_type": "stream",
     "text": [
      "False\n",
      "True\n"
     ]
    }
   ],
   "source": [
    "print(bool(0.0))\n",
    "print(bool(0.01))"
   ]
  },
  {
   "cell_type": "code",
   "execution_count": null,
   "id": "8434c10d",
   "metadata": {},
   "outputs": [
    {
     "name": "stdout",
     "output_type": "stream",
     "text": [
      "True\n",
      "False\n"
     ]
    }
   ],
   "source": [
    "# 문자형(str)일때 empty value => False\n",
    "print(bool(\"A\"))\n",
    "print(bool(\"\"))"
   ]
  },
  {
   "cell_type": "markdown",
   "id": "85a64279",
   "metadata": {},
   "source": [
    "#### 연산자\n",
    "- 1. 산술연산자: +,-,/,*,%,//,** <br>\n",
    "%: 나머지반환<br>\n",
    "//: 몫반환<br>\n",
    "- 2. 관계연산자: ==, >=, <=, !=, <, ><br>\n",
    "동등비교나 크기비교할때 사용한다<br>\n",
    "- 3. 논리연산자: and, or, not<br>\n",
    "- 4. 대입연산자: =, (a,b) * <br>\n",
    "할당, a와 b를 교환, 패킹(묶어서 생각한다)"
   ]
  },
  {
   "cell_type": "code",
   "execution_count": null,
   "id": "2a644b87",
   "metadata": {},
   "outputs": [
    {
     "name": "stdout",
     "output_type": "stream",
     "text": [
      "30\n",
      "30.0\n"
     ]
    }
   ],
   "source": [
    "# 실수 => 정수\n",
    "a=int(10.6)\n",
    "b=int(20.44)\n",
    "add=a+b\n",
    "print(add)\n",
    "# 정수 => 실수\n",
    "a=float(10)\n",
    "b=float(20)\n",
    "add=a+b\n",
    "print(add)"
   ]
  },
  {
   "cell_type": "code",
   "execution_count": null,
   "id": "d137bd2d",
   "metadata": {},
   "outputs": [
    {
     "name": "stdout",
     "output_type": "stream",
     "text": [
      "<class 'str'>\n",
      "100\n"
     ]
    }
   ],
   "source": [
    "st=\"10\"\n",
    "print(type(st))\n",
    "print(int(st)**2)"
   ]
  },
  {
   "cell_type": "code",
   "execution_count": null,
   "id": "e08ac012",
   "metadata": {},
   "outputs": [
    {
     "name": "stdout",
     "output_type": "stream",
     "text": [
      "21\n",
      "13\n",
      "4.25\n",
      "68\n",
      "1\n",
      "4\n"
     ]
    }
   ],
   "source": [
    "# 연산자 \n",
    "num1= 17\n",
    "num2= 4\n",
    "print(num1+num2)\n",
    "print(num1-num2)\n",
    "print(num1/num2)\n",
    "print(num1*num2)\n",
    "\n",
    "print(num1%num2)\n",
    "# 나머지 반환\n",
    "print(num1//num2)\n",
    "# 몫 반환"
   ]
  },
  {
   "cell_type": "code",
   "execution_count": null,
   "id": "188c6e10",
   "metadata": {},
   "outputs": [
    {
     "name": "stdout",
     "output_type": "stream",
     "text": [
      "123456\n"
     ]
    }
   ],
   "source": [
    "# case1\n",
    "num='123'\n",
    "num1=\"456\"\n",
    "print(num+num1)\n",
    "# 문자형(str)의 덧셈은 연결의 계념이다 \n",
    "# (숫자형의 사칙연산중에서 덧셈만가능하고, 숫자와 문자가 혼합되어있을때는 이마저 불가능)"
   ]
  },
  {
   "cell_type": "code",
   "execution_count": null,
   "id": "a1fc8ed4",
   "metadata": {},
   "outputs": [
    {
     "ename": "TypeError",
     "evalue": "unsupported operand type(s) for +: 'int' and 'str'",
     "output_type": "error",
     "traceback": [
      "\u001b[1;31m---------------------------------------------------------------------------\u001b[0m",
      "\u001b[1;31mTypeError\u001b[0m                                 Traceback (most recent call last)",
      "\u001b[1;32m~\\AppData\\Local\\Temp\\ipykernel_6768\\2830167605.py\u001b[0m in \u001b[0;36m<module>\u001b[1;34m\u001b[0m\n\u001b[0;32m      3\u001b[0m \u001b[0mnum1\u001b[0m\u001b[1;33m=\u001b[0m\u001b[1;36m2\u001b[0m\u001b[1;33m\u001b[0m\u001b[1;33m\u001b[0m\u001b[0m\n\u001b[0;32m      4\u001b[0m \u001b[0mnum2\u001b[0m\u001b[1;33m=\u001b[0m\u001b[1;34m\"3\"\u001b[0m\u001b[1;33m\u001b[0m\u001b[1;33m\u001b[0m\u001b[0m\n\u001b[1;32m----> 5\u001b[1;33m \u001b[0mprint\u001b[0m\u001b[1;33m(\u001b[0m\u001b[0mnum\u001b[0m\u001b[1;33m+\u001b[0m\u001b[0mnum1\u001b[0m\u001b[1;33m+\u001b[0m\u001b[0mnum2\u001b[0m\u001b[1;33m)\u001b[0m\u001b[1;33m\u001b[0m\u001b[1;33m\u001b[0m\u001b[0m\n\u001b[0m",
      "\u001b[1;31mTypeError\u001b[0m: unsupported operand type(s) for +: 'int' and 'str'"
     ]
    }
   ],
   "source": [
    "# case2\n",
    "num=1\n",
    "num1=2\n",
    "num2=\"3\"\n",
    "print(num+num1+num2)"
   ]
  },
  {
   "cell_type": "code",
   "execution_count": null,
   "id": "ac503da5",
   "metadata": {},
   "outputs": [
    {
     "name": "stdout",
     "output_type": "stream",
     "text": [
      "놀고싶다 놀고싶다 놀고싶다 \n"
     ]
    }
   ],
   "source": [
    "# case3\n",
    "print(\"놀고싶다 \"*3)\n",
    "# 문자형은 띄어쓰기 문자로 본다. "
   ]
  },
  {
   "cell_type": "markdown",
   "id": "310cf405",
   "metadata": {},
   "source": [
    "#### 길이구하기: len()함수를 사용하여 문자길이를 구해보자\n",
    "##### 띄어쓰기도 문자다"
   ]
  },
  {
   "cell_type": "code",
   "execution_count": null,
   "id": "6d2e9259",
   "metadata": {},
   "outputs": [
    {
     "name": "stdout",
     "output_type": "stream",
     "text": [
      "7\n"
     ]
    }
   ],
   "source": [
    "uni=\"dongguk\"\n",
    "print(len(uni))"
   ]
  },
  {
   "cell_type": "code",
   "execution_count": null,
   "id": "17c45d70",
   "metadata": {},
   "outputs": [
    {
     "name": "stdout",
     "output_type": "stream",
     "text": [
      "8\n"
     ]
    }
   ],
   "source": [
    "uni=\"dong guk\"\n",
    "print(len(uni))\n",
    "# 띄어쓰기도 문자로 인식한다"
   ]
  },
  {
   "cell_type": "code",
   "execution_count": null,
   "id": "4ba24008",
   "metadata": {},
   "outputs": [
    {
     "name": "stdout",
     "output_type": "stream",
     "text": [
      "6\n"
     ]
    }
   ],
   "source": [
    "uni=\"123456\"\n",
    "print(len(uni))"
   ]
  },
  {
   "cell_type": "markdown",
   "id": "ad432b8f",
   "metadata": {},
   "source": [
    "#### 논리 연산자의 우선순위 확인"
   ]
  },
  {
   "cell_type": "code",
   "execution_count": null,
   "id": "95bec3c9",
   "metadata": {},
   "outputs": [
    {
     "name": "stdout",
     "output_type": "stream",
     "text": [
      "True\n",
      "False\n"
     ]
    }
   ],
   "source": [
    "print(True and True)\n",
    "print(False and False)\n"
   ]
  },
  {
   "cell_type": "code",
   "execution_count": null,
   "id": "ced6a2ee",
   "metadata": {},
   "outputs": [
    {
     "name": "stdout",
     "output_type": "stream",
     "text": [
      "False\n",
      "False\n"
     ]
    }
   ],
   "source": [
    "print(True and False)\n",
    "print(False and True)"
   ]
  },
  {
   "cell_type": "code",
   "execution_count": null,
   "id": "f05728f5",
   "metadata": {},
   "outputs": [
    {
     "name": "stdout",
     "output_type": "stream",
     "text": [
      "True\n",
      "False\n"
     ]
    }
   ],
   "source": [
    "print(True or True)\n",
    "print(False or False)"
   ]
  },
  {
   "cell_type": "code",
   "execution_count": null,
   "id": "9878a448",
   "metadata": {},
   "outputs": [
    {
     "name": "stdout",
     "output_type": "stream",
     "text": [
      "True\n",
      "True\n"
     ]
    }
   ],
   "source": [
    "print(True or False)\n",
    "print(False or True)"
   ]
  },
  {
   "cell_type": "code",
   "execution_count": null,
   "id": "49eaf9b2",
   "metadata": {},
   "outputs": [
    {
     "name": "stdout",
     "output_type": "stream",
     "text": [
      "True\n"
     ]
    }
   ],
   "source": [
    "print(2==2)"
   ]
  },
  {
   "cell_type": "code",
   "execution_count": null,
   "id": "6fbab2ae",
   "metadata": {},
   "outputs": [
    {
     "name": "stdout",
     "output_type": "stream",
     "text": [
      "False\n"
     ]
    }
   ],
   "source": [
    "print(2!=2)"
   ]
  },
  {
   "cell_type": "markdown",
   "id": "14ccc680",
   "metadata": {},
   "source": [
    "#### 인덱스\n",
    "[ ] 를 인덱스(index) => 문자열의 순서에서 해당하는 문자를 표시하는 역할<br>\n",
    "- 인덱싱(indexing)  => 한문자만 가르킨다(뜻)<br>\n",
    "- 슬라이싱(slicing) => 한문자만 선택되는 것이 아니라 여러문자를 \"잘라낸다\"라는 의미<br>"
   ]
  },
  {
   "cell_type": "code",
   "execution_count": null,
   "id": "54353a6c",
   "metadata": {},
   "outputs": [
    {
     "name": "stdout",
     "output_type": "stream",
     "text": [
      "d\n",
      "g\n"
     ]
    }
   ],
   "source": [
    "uni=\"dongguk\"\n",
    "print(uni[0])\n",
    "print(uni[3])\n",
    "# donggk이라는 문자형변수를 uni라는 이름으로 받고\n",
    "# uni를 인덱스의 1번에 해당하는 자리를 인덱싱하고\n",
    "# 표준출력해줘\n",
    "\n",
    "# 인덱싱을 할때는 인덱스에 번호를 삽입해주는데\n",
    "# 시작번호는 0번부터먹는다!"
   ]
  },
  {
   "cell_type": "code",
   "execution_count": null,
   "id": "876e8fb4",
   "metadata": {},
   "outputs": [
    {
     "name": "stdout",
     "output_type": "stream",
     "text": [
      "k\n",
      "u\n"
     ]
    }
   ],
   "source": [
    "uni=\"donggu k\"\n",
    "print(uni[-1])\n",
    "print(uni[-3])\n",
    "# 역으로 인덱싱을 할때는 음수부호를 붙여주세요\n",
    "# 단, 이때 인덱싱 번호는 -1부터 시작합니다. \n",
    "# -0은 없으니깐 이해는 편하네요\n",
    "# 띄어쓰기 문자에서는 인식하기 때문에 잘 보고 번호 쓰세요"
   ]
  },
  {
   "cell_type": "markdown",
   "id": "cf5f04fb",
   "metadata": {},
   "source": [
    "#### 슬라이싱\n",
    "- 자동차 뒤에 4자리만 추출하고 싶다면??"
   ]
  },
  {
   "cell_type": "code",
   "execution_count": null,
   "id": "ea9bff1c",
   "metadata": {},
   "outputs": [
    {
     "name": "stdout",
     "output_type": "stream",
     "text": [
      "어\n",
      "어\n",
      "0123\n",
      "0123\n",
      "0123\n",
      "20어\n",
      "20어\n"
     ]
    }
   ],
   "source": [
    "license_plate=\"20어 0123\"\n",
    "print(license_plate[2])\n",
    "print(license_plate[-6])\n",
    "# 슬라이싱에서는 : => 시작인덱스부터 끝인덱스까지 뽑아줘~\n",
    "print(license_plate[4:])\n",
    "print(license_plate[4:8])\n",
    "print(license_plate[-4:])\n",
    "\n",
    "print(license_plate[:3])\n",
    "print(license_plate[0:3])\n",
    "\n"
   ]
  },
  {
   "cell_type": "code",
   "execution_count": null,
   "id": "155fcb44",
   "metadata": {},
   "outputs": [
    {
     "name": "stdout",
     "output_type": "stream",
     "text": [
      "20어\n"
     ]
    }
   ],
   "source": [
    "license_plate=\"20어 0123\"\n",
    "print(license_plate[:3])\n"
   ]
  },
  {
   "cell_type": "markdown",
   "id": "db862d1d",
   "metadata": {},
   "source": [
    "#### 3주차\n",
    "##### 관계연산자(relational operators)\n",
    "크다> 크거나 같다 >=<br>\n",
    "작다< 작거나 같다 <=<br>\n",
    "\n",
    "== 같다, != 같지않다<br>\n",
    "- 동등비교, 상등연산자 \n"
   ]
  },
  {
   "cell_type": "code",
   "execution_count": null,
   "id": "8438b209",
   "metadata": {},
   "outputs": [
    {
     "name": "stdout",
     "output_type": "stream",
     "text": [
      "False\n",
      "True\n",
      "True\n",
      "False\n"
     ]
    }
   ],
   "source": [
    "a=10\n",
    "b=3\n",
    "print(a==b)\n",
    "print(a!=b)\n",
    "print(a>=b)\n",
    "print(a<=b)"
   ]
  },
  {
   "cell_type": "code",
   "execution_count": null,
   "id": "321e83f8",
   "metadata": {},
   "outputs": [
    {
     "name": "stdout",
     "output_type": "stream",
     "text": [
      "False\n",
      "True\n"
     ]
    }
   ],
   "source": [
    "# 1 동등비교\n",
    "num1=123\n",
    "num2=456\n",
    "result1=num1==num2\n",
    "print(result1)\n",
    "result1=num1!=num2\n",
    "print(result1)"
   ]
  },
  {
   "cell_type": "code",
   "execution_count": null,
   "id": "47bd0cb6",
   "metadata": {},
   "outputs": [
    {
     "name": "stdout",
     "output_type": "stream",
     "text": [
      "False\n",
      "True\n"
     ]
    }
   ],
   "source": [
    "# 크기비교\n",
    "result1=num1>=num2\n",
    "print(result1)\n",
    "result1=num1<=num2\n",
    "print(result1)"
   ]
  },
  {
   "cell_type": "code",
   "execution_count": null,
   "id": "9b318d98",
   "metadata": {},
   "outputs": [
    {
     "name": "stdout",
     "output_type": "stream",
     "text": [
      "False\n",
      "True\n"
     ]
    }
   ],
   "source": [
    "# 문자일때 비교\n",
    "# 1. 문자동등비교\n",
    "str1=\"날씨\"\n",
    "str2=\"우산\"\n",
    "result1=str1==str2\n",
    "print(result1)\n",
    "result1=str1!=str2\n",
    "print(result1)\n",
    "# 크기비교는 불가~"
   ]
  },
  {
   "cell_type": "markdown",
   "id": "4115a307",
   "metadata": {},
   "source": [
    "#### 논리연산자\n",
    "[특징]\n",
    "1. True 참, False 거짓\n",
    "2. True!=0 False==0\n",
    "3. 문자의 공란 False , 존재 True\n",
    "4. 산술식에서 True=1를 부여받고, False 에서는 0을 부여받는다"
   ]
  },
  {
   "cell_type": "code",
   "execution_count": null,
   "id": "ae109f14",
   "metadata": {},
   "outputs": [
    {
     "name": "stdout",
     "output_type": "stream",
     "text": [
      "True\n",
      "False\n",
      "True\n",
      "2\n"
     ]
    }
   ],
   "source": [
    "# 예시\n",
    "print(True==1)\n",
    "print(True==2)\n",
    "print(False==0)\n",
    "print(False+True+True)"
   ]
  },
  {
   "cell_type": "markdown",
   "id": "c77361a0",
   "metadata": {},
   "source": [
    "#### Bool  type\n",
    "- 참 and 참 => 참\n",
    "- 거짓 and 거짓 => 거짓\n",
    "- _참 and 거짓 => 거짓_\n",
    "\n",
    "- 참 or 참 => 참\n",
    "- 거짓 or 거짓 => 거짓\n",
    "- _참 or 거짓 => 참_\n"
   ]
  },
  {
   "cell_type": "code",
   "execution_count": null,
   "id": "a39edefb",
   "metadata": {},
   "outputs": [
    {
     "name": "stdout",
     "output_type": "stream",
     "text": [
      "False\n",
      "True\n"
     ]
    }
   ],
   "source": [
    "# 기억하기~\n",
    "print(True and False)\n",
    "print(True or False)"
   ]
  },
  {
   "cell_type": "code",
   "execution_count": null,
   "id": "606cc149",
   "metadata": {},
   "outputs": [
    {
     "name": "stdout",
     "output_type": "stream",
     "text": [
      "False\n",
      "True\n"
     ]
    }
   ],
   "source": [
    "# 예제\n",
    "# 두 관계식이 같은지에 대한 판단하기\n",
    "num1= 60\n",
    "num2 =11\n",
    "new_result=num1>=50 and num2<=10\n",
    "print(new_result)\n",
    "new_result=num1>=50 or num2<=10\n",
    "print(new_result)"
   ]
  },
  {
   "cell_type": "code",
   "execution_count": null,
   "id": "bdd1c32e",
   "metadata": {},
   "outputs": [],
   "source": [
    "# 논리연산자의 not? 기억하자\n",
    "# => 스위칭(상황을 반전시키는 방법)\n",
    "## not True => False\n",
    "## not False => True\n",
    "# not조건 -> 조건을 반대로 해석한다 "
   ]
  },
  {
   "cell_type": "code",
   "execution_count": null,
   "id": "b6e301c9",
   "metadata": {},
   "outputs": [
    {
     "name": "stdout",
     "output_type": "stream",
     "text": [
      "False\n",
      "False\n"
     ]
    }
   ],
   "source": [
    "num1= 60\n",
    "num2 =11\n",
    "new_result=not(num1>=50)\n",
    "print(new_result)\n",
    "print(1<5 and not 5<10)"
   ]
  },
  {
   "cell_type": "code",
   "execution_count": null,
   "id": "d3149adb",
   "metadata": {},
   "outputs": [
    {
     "name": "stdout",
     "output_type": "stream",
     "text": [
      "False\n",
      "False\n"
     ]
    }
   ],
   "source": [
    "# 연산자 예제\n",
    "score=50\n",
    "print(score>=60)\n",
    "\n",
    "# 배수구하기  => 3의 배수이면 True\n",
    "num=15\n",
    "print(num%3==0)\n",
    "# num을 15로 받고, 이걸 3으로 나눈 값의 나머지값이 0이라면 True가 먹힌다"
   ]
  },
  {
   "cell_type": "code",
   "execution_count": null,
   "id": "1b08651f",
   "metadata": {},
   "outputs": [
    {
     "name": "stdout",
     "output_type": "stream",
     "text": [
      "짝수:  False\n",
      "홀수:  True\n"
     ]
    }
   ],
   "source": [
    "# 홀수 짝수(나머지값을 이용하자)\n",
    "num=10203 \n",
    "print(\"짝수: \", num%2==0)\n",
    "print(\"홀수: \", num%2==1)"
   ]
  },
  {
   "cell_type": "code",
   "execution_count": null,
   "id": "eca95fc1",
   "metadata": {},
   "outputs": [
    {
     "name": "stdout",
     "output_type": "stream",
     "text": [
      "True\n",
      "False\n"
     ]
    }
   ],
   "source": [
    "# 추가로 많이 사용하는 연산자 기능\n",
    "# 1. in 연산자\n",
    "print(\"g\" in \"goodmorning\")\n",
    "print(\"s\" in \"goodmorning\")"
   ]
  },
  {
   "cell_type": "code",
   "execution_count": null,
   "id": "b81b6cb9",
   "metadata": {},
   "outputs": [
    {
     "name": "stdout",
     "output_type": "stream",
     "text": [
      "False\n",
      "True\n"
     ]
    }
   ],
   "source": [
    "text=\"goodmorning\"\n",
    "print(\"s\" in text)\n",
    "print(\"g\" in text)"
   ]
  },
  {
   "cell_type": "markdown",
   "id": "d435bf7b",
   "metadata": {},
   "source": [
    "#### 대입연산자 -> 변수를 만들때 , 특정 자료형의 값을 변수에 할당\n",
    "##### 변수만들기"
   ]
  },
  {
   "cell_type": "code",
   "execution_count": null,
   "id": "9c22f6a5",
   "metadata": {},
   "outputs": [
    {
     "name": "stdout",
     "output_type": "stream",
     "text": [
      "6\n"
     ]
    }
   ],
   "source": [
    "A=5\n",
    "A=A+1\n",
    "print(A)"
   ]
  },
  {
   "cell_type": "code",
   "execution_count": null,
   "id": "1d44d516",
   "metadata": {},
   "outputs": [
    {
     "name": "stdout",
     "output_type": "stream",
     "text": [
      "15\n",
      "Good\n",
      "GoodGood\n"
     ]
    }
   ],
   "source": [
    "# 하나의 값을 여러변수로 할당하기\n",
    "a=b=c=5\n",
    "print(a+b+c)\n",
    "a=\"Good\"\n",
    "print(a)\n",
    "a=b=c=\"Good\"\n",
    "print(a+b)\n"
   ]
  },
  {
   "cell_type": "markdown",
   "id": "f253457f",
   "metadata": {},
   "source": [
    "##### 복합연산자=> 기본연산자와 대입연산자의 조합연산자\n",
    "```\n",
    "+=  숫자를 더한후에 대입\n",
    "-=  숫자를 뺀뒤에 대입\n",
    " *= , /=\n",
    " //= 숫자를 나눈후에 그 몫만 대입\n",
    " %= 숫자를 나눈후에 그 나머지만 대입\n",
    " **= 숫자를 제곱한뒤에 대입\n",
    "```"
   ]
  },
  {
   "cell_type": "code",
   "execution_count": null,
   "id": "9461aae6",
   "metadata": {},
   "outputs": [
    {
     "name": "stdout",
     "output_type": "stream",
     "text": [
      "10\n"
     ]
    }
   ],
   "source": [
    "# 복합대입연산자\n",
    "a=4\n",
    "a=a+3\n",
    "a+=3\n",
    "# 왼쪽 변수에 오른쪽값을 더한뒤, 그결과값을 왼쪽변수에 저장하라는 뜻\n",
    "print(a)"
   ]
  },
  {
   "cell_type": "code",
   "execution_count": null,
   "id": "7ebf3128",
   "metadata": {},
   "outputs": [
    {
     "name": "stdout",
     "output_type": "stream",
     "text": [
      "0.75\n"
     ]
    }
   ],
   "source": [
    "a=1\n",
    "a=a+2\n",
    "a/=4\n",
    "print(a)"
   ]
  },
  {
   "cell_type": "code",
   "execution_count": null,
   "id": "a1ef93eb",
   "metadata": {},
   "outputs": [],
   "source": [
    "# 문자열의 복합대입연산\n",
    "# += : 연결후 대입\n",
    "# *= : 반복후 대입"
   ]
  },
  {
   "cell_type": "code",
   "execution_count": null,
   "id": "fadf937c",
   "metadata": {},
   "outputs": [
    {
     "name": "stdout",
     "output_type": "stream",
     "text": [
      "식사 맛있게 드세요\n",
      "식사식사\n"
     ]
    }
   ],
   "source": [
    "word=\"식사 \"\n",
    "word+=\"맛있게 드세요\"\n",
    "print(word)\n",
    "\n",
    "word = \"식사\"\n",
    "word*=2\n",
    "print(word)"
   ]
  },
  {
   "cell_type": "code",
   "execution_count": null,
   "id": "6741a9ea",
   "metadata": {},
   "outputs": [
    {
     "name": "stdout",
     "output_type": "stream",
     "text": [
      "20 10\n"
     ]
    }
   ],
   "source": [
    "# 대입연산자의 기능 1=> 변수교체\n",
    "var1=10\n",
    "var2=20\n",
    "# 변수의 교체\n",
    "var2, var1 = var1, var2\n",
    "print(var1, var2)"
   ]
  },
  {
   "cell_type": "code",
   "execution_count": null,
   "id": "0529e793",
   "metadata": {},
   "outputs": [
    {
     "name": "stdout",
     "output_type": "stream",
     "text": [
      "10 20\n",
      "유동국 23 90\n"
     ]
    }
   ],
   "source": [
    "# 대입연산자의 기능 2=> 다수변수를 할당할수 있다 \n",
    "x, y= 10, 20\n",
    "print (x, y)\n",
    "\n",
    "# 문자변수와 숫자변수를 한번 저장\n",
    "name, age, weight = \"유동국\", 23, 90\n",
    "print(name, age, weight)"
   ]
  },
  {
   "cell_type": "code",
   "execution_count": null,
   "id": "bb280595",
   "metadata": {},
   "outputs": [
    {
     "name": "stdout",
     "output_type": "stream",
     "text": [
      "7500\n",
      "500원갯수 :  15.0\n",
      "100원갯수 :  75.0\n",
      "500원갯수 :  15 개\n",
      "100원갯수 :  75 개\n"
     ]
    }
   ],
   "source": [
    "# 문제=> 제가 편의점갔다 10,000원들고갔다\n",
    "# 컵라면 1500원 , 콜라가 1000원이다(각각 1개씩 구매) \n",
    "# => 거스름돈을 받을때 500원은 몇개? 100원?(각각)\n",
    "money=10000-1500-1000\n",
    "print(money)\n",
    "print(\"500원갯수 : \", money/500)\n",
    "print(\"100원갯수 : \", money/100)\n",
    "print(\"500원갯수 : \", int(money/500), \"개\")\n",
    "print(\"100원갯수 : \", int(money/100), \"개\")\n"
   ]
  },
  {
   "cell_type": "code",
   "execution_count": null,
   "id": "cd945e2f",
   "metadata": {},
   "outputs": [
    {
     "name": "stdout",
     "output_type": "stream",
     "text": [
      "7300\n",
      "500원의 갯수:  14\n",
      "100원의 갯수:  3\n",
      "500원의 갯수:  14\n",
      "100원의 갯수:  3\n"
     ]
    }
   ],
   "source": [
    "# 500원부터 받고, 나머지는 100원으로 받자 \n",
    "# hint => 나머지와 몫반환\n",
    "money=10000-1500-1200\n",
    "print(money)\n",
    "# 방법1 \n",
    "print(\"500원의 갯수: \", int(money/500))\n",
    "print(\"100원의 갯수: \", int((money%500)/100))\n",
    "# 방법2\n",
    "print(\"500원의 갯수: \", int(money//500))\n",
    "print(\"100원의 갯수: \", int((money%500)//100))"
   ]
  },
  {
   "cell_type": "code",
   "execution_count": null,
   "id": "08e1803b",
   "metadata": {},
   "outputs": [],
   "source": [
    "# 변수 삭제방법\n",
    "del money"
   ]
  },
  {
   "cell_type": "markdown",
   "id": "439dc9be",
   "metadata": {},
   "source": [
    "##### 표준입력 => 입력값을 변수에 담는다 \n",
    "[특징]\n",
    "1. 입력값은 기본데이터타입 = 문자형(str)<br>\n",
    "(숫자를 입력받아도 문자형이라서 연산자가 불가하다)\n"
   ]
  },
  {
   "cell_type": "code",
   "execution_count": null,
   "id": "a4ca90fb",
   "metadata": {},
   "outputs": [
    {
     "name": "stdout",
     "output_type": "stream",
     "text": [
      "소속: ㄴㄹㅇㄴ\n",
      "이름: \n",
      "ID: \n",
      "pw: \n"
     ]
    },
    {
     "ename": "ValueError",
     "evalue": "invalid literal for int() with base 10: ''",
     "output_type": "error",
     "traceback": [
      "\u001b[1;31m---------------------------------------------------------------------------\u001b[0m",
      "\u001b[1;31mValueError\u001b[0m                                Traceback (most recent call last)",
      "\u001b[1;32m~\\AppData\\Local\\Temp\\ipykernel_11480\\27073137.py\u001b[0m in \u001b[0;36m<module>\u001b[1;34m\u001b[0m\n\u001b[0;32m      3\u001b[0m \u001b[0mname\u001b[0m\u001b[1;33m=\u001b[0m \u001b[0minput\u001b[0m\u001b[1;33m(\u001b[0m\u001b[1;34m\"이름: \"\u001b[0m\u001b[1;33m)\u001b[0m\u001b[1;33m\u001b[0m\u001b[1;33m\u001b[0m\u001b[0m\n\u001b[0;32m      4\u001b[0m \u001b[0mid\u001b[0m \u001b[1;33m=\u001b[0m \u001b[0minput\u001b[0m\u001b[1;33m(\u001b[0m\u001b[1;34m\"ID: \"\u001b[0m\u001b[1;33m)\u001b[0m\u001b[1;33m\u001b[0m\u001b[1;33m\u001b[0m\u001b[0m\n\u001b[1;32m----> 5\u001b[1;33m \u001b[0mpw\u001b[0m\u001b[1;33m=\u001b[0m \u001b[0mint\u001b[0m\u001b[1;33m(\u001b[0m\u001b[0minput\u001b[0m\u001b[1;33m(\u001b[0m\u001b[1;34m\"pw: \"\u001b[0m\u001b[1;33m)\u001b[0m\u001b[1;33m)\u001b[0m\u001b[1;33m\u001b[0m\u001b[1;33m\u001b[0m\u001b[0m\n\u001b[0m\u001b[0;32m      6\u001b[0m \u001b[0mbr\u001b[0m\u001b[1;33m=\u001b[0m \u001b[0mint\u001b[0m\u001b[1;33m(\u001b[0m\u001b[0minput\u001b[0m\u001b[1;33m(\u001b[0m\u001b[1;34m\"생일: \"\u001b[0m\u001b[1;33m)\u001b[0m\u001b[1;33m)\u001b[0m\u001b[1;33m\u001b[0m\u001b[1;33m\u001b[0m\u001b[0m\n",
      "\u001b[1;31mValueError\u001b[0m: invalid literal for int() with base 10: ''"
     ]
    }
   ],
   "source": [
    "# 예시(표준입력 => input)\n",
    "string=input(\"소속: \")\n",
    "name= input(\"이름: \")\n",
    "id = input(\"ID: \")\n",
    "pw= int(input(\"pw: \"))\n",
    "br= int(input(\"생일: \"))\n"
   ]
  },
  {
   "cell_type": "code",
   "execution_count": null,
   "id": "01bf1441",
   "metadata": {},
   "outputs": [
    {
     "name": "stdout",
     "output_type": "stream",
     "text": [
      "숫자1: 1\n",
      "숫자2: \n",
      "1\n",
      "숫자1: df\n"
     ]
    },
    {
     "ename": "ValueError",
     "evalue": "invalid literal for int() with base 10: 'df'",
     "output_type": "error",
     "traceback": [
      "\u001b[1;31m---------------------------------------------------------------------------\u001b[0m",
      "\u001b[1;31mValueError\u001b[0m                                Traceback (most recent call last)",
      "\u001b[1;32m~\\AppData\\Local\\Temp\\ipykernel_11480\\2894635912.py\u001b[0m in \u001b[0;36m<module>\u001b[1;34m\u001b[0m\n\u001b[0;32m      3\u001b[0m \u001b[0mnum2\u001b[0m\u001b[1;33m=\u001b[0m\u001b[0minput\u001b[0m\u001b[1;33m(\u001b[0m\u001b[1;34m\"숫자2: \"\u001b[0m\u001b[1;33m)\u001b[0m\u001b[1;33m\u001b[0m\u001b[1;33m\u001b[0m\u001b[0m\n\u001b[0;32m      4\u001b[0m \u001b[0mprint\u001b[0m\u001b[1;33m(\u001b[0m\u001b[0mnum1\u001b[0m\u001b[1;33m+\u001b[0m\u001b[0mnum2\u001b[0m\u001b[1;33m)\u001b[0m\u001b[1;33m\u001b[0m\u001b[1;33m\u001b[0m\u001b[0m\n\u001b[1;32m----> 5\u001b[1;33m \u001b[0mnum1\u001b[0m\u001b[1;33m=\u001b[0m\u001b[0mint\u001b[0m\u001b[1;33m(\u001b[0m\u001b[0minput\u001b[0m\u001b[1;33m(\u001b[0m\u001b[1;34m\"숫자1: \"\u001b[0m\u001b[1;33m)\u001b[0m\u001b[1;33m)\u001b[0m\u001b[1;33m\u001b[0m\u001b[1;33m\u001b[0m\u001b[0m\n\u001b[0m\u001b[0;32m      6\u001b[0m \u001b[0mnum2\u001b[0m\u001b[1;33m=\u001b[0m\u001b[0mint\u001b[0m\u001b[1;33m(\u001b[0m\u001b[0minput\u001b[0m\u001b[1;33m(\u001b[0m\u001b[1;34m\"숫자2: \"\u001b[0m\u001b[1;33m)\u001b[0m\u001b[1;33m)\u001b[0m\u001b[1;33m\u001b[0m\u001b[1;33m\u001b[0m\u001b[0m\n\u001b[0;32m      7\u001b[0m \u001b[0mprint\u001b[0m\u001b[1;33m(\u001b[0m\u001b[0mnum1\u001b[0m\u001b[1;33m+\u001b[0m\u001b[0mnum2\u001b[0m\u001b[1;33m)\u001b[0m\u001b[1;33m\u001b[0m\u001b[1;33m\u001b[0m\u001b[0m\n",
      "\u001b[1;31mValueError\u001b[0m: invalid literal for int() with base 10: 'df'"
     ]
    }
   ],
   "source": [
    "# 예시=>기본이 문자형 => 덧셈은 연결이다\n",
    "num1=input(\"숫자1: \")\n",
    "num2=input(\"숫자2: \")\n",
    "print(num1+num2)\n",
    "\n",
    "num1=int(input(\"숫자1: \"))\n",
    "num2=int(input(\"숫자2: \"))\n",
    "print(num1+num2)"
   ]
  },
  {
   "cell_type": "code",
   "execution_count": null,
   "id": "0b0516f1",
   "metadata": {},
   "outputs": [
    {
     "name": "stdout",
     "output_type": "stream",
     "text": [
      "숫자1: 1\n",
      "숫자2: \n"
     ]
    },
    {
     "ename": "ValueError",
     "evalue": "invalid literal for int() with base 10: ''",
     "output_type": "error",
     "traceback": [
      "\u001b[1;31m---------------------------------------------------------------------------\u001b[0m",
      "\u001b[1;31mValueError\u001b[0m                                Traceback (most recent call last)",
      "\u001b[1;32m~\\AppData\\Local\\Temp\\ipykernel_11480\\742348424.py\u001b[0m in \u001b[0;36m<module>\u001b[1;34m\u001b[0m\n\u001b[0;32m      1\u001b[0m \u001b[0mnum1\u001b[0m\u001b[1;33m=\u001b[0m\u001b[0mint\u001b[0m\u001b[1;33m(\u001b[0m\u001b[0minput\u001b[0m\u001b[1;33m(\u001b[0m\u001b[1;34m\"숫자1: \"\u001b[0m\u001b[1;33m)\u001b[0m\u001b[1;33m)\u001b[0m\u001b[1;33m\u001b[0m\u001b[1;33m\u001b[0m\u001b[0m\n\u001b[1;32m----> 2\u001b[1;33m \u001b[0mnum2\u001b[0m\u001b[1;33m=\u001b[0m\u001b[0mint\u001b[0m\u001b[1;33m(\u001b[0m\u001b[0minput\u001b[0m\u001b[1;33m(\u001b[0m\u001b[1;34m\"숫자2: \"\u001b[0m\u001b[1;33m)\u001b[0m\u001b[1;33m)\u001b[0m\u001b[1;33m\u001b[0m\u001b[1;33m\u001b[0m\u001b[0m\n\u001b[0m\u001b[0;32m      3\u001b[0m \u001b[0mprint\u001b[0m\u001b[1;33m(\u001b[0m\u001b[0mnum1\u001b[0m\u001b[1;33m+\u001b[0m\u001b[0mnum2\u001b[0m\u001b[1;33m)\u001b[0m\u001b[1;33m\u001b[0m\u001b[1;33m\u001b[0m\u001b[0m\n",
      "\u001b[1;31mValueError\u001b[0m: invalid literal for int() with base 10: ''"
     ]
    }
   ],
   "source": [
    "num1=int(input(\"숫자1: \"))\n",
    "num2=int(input(\"숫자2: \"))\n",
    "print(num1+num2)"
   ]
  },
  {
   "cell_type": "code",
   "execution_count": null,
   "id": "bf49a7a2",
   "metadata": {},
   "outputs": [
    {
     "name": "stdout",
     "output_type": "stream",
     "text": [
      "숫자1: 1\n",
      "숫자2: 1\n",
      "2.0\n"
     ]
    }
   ],
   "source": [
    "num1=float(input(\"숫자1: \"))\n",
    "num2=float(input(\"숫자2: \"))\n",
    "print(num1+num2)"
   ]
  },
  {
   "cell_type": "markdown",
   "id": "d1afd5af",
   "metadata": {},
   "source": [
    "#### 표준입력(특이)=>  split(): 공백(띄어쓰기)을 기준으로 한줄에 여러숫자 받기\n",
    "```\n",
    "좀더 쉽게 => 하나의 문자열을 나눠서 리스트로 구분한다. [1, 2, 3]\n",
    "```"
   ]
  },
  {
   "cell_type": "code",
   "execution_count": null,
   "id": "97d0d4b3",
   "metadata": {},
   "outputs": [
    {
     "data": {
      "text/plain": [
       "['my', 'name', 'is', 'ryu']"
      ]
     },
     "execution_count": 80,
     "metadata": {},
     "output_type": "execute_result"
    }
   ],
   "source": [
    "name = \"my name is ryu\"\n",
    "name.split()"
   ]
  },
  {
   "cell_type": "code",
   "execution_count": null,
   "id": "31abb5e5",
   "metadata": {},
   "outputs": [
    {
     "data": {
      "text/plain": [
       "['1234', '2321']"
      ]
     },
     "execution_count": 83,
     "metadata": {},
     "output_type": "execute_result"
    }
   ],
   "source": [
    "num=\"1234 2321\"\n",
    "num.split()"
   ]
  },
  {
   "cell_type": "code",
   "execution_count": null,
   "id": "4f01c10f",
   "metadata": {},
   "outputs": [
    {
     "ename": "SyntaxError",
     "evalue": "invalid syntax (1160823158.py, line 1)",
     "output_type": "error",
     "traceback": [
      "\u001b[1;36m  File \u001b[1;32m\"C:\\Users\\USER\\AppData\\Local\\Temp\\ipykernel_11480\\1160823158.py\"\u001b[1;36m, line \u001b[1;32m1\u001b[0m\n\u001b[1;33m    num=234 2321\u001b[0m\n\u001b[1;37m            ^\u001b[0m\n\u001b[1;31mSyntaxError\u001b[0m\u001b[1;31m:\u001b[0m invalid syntax\n"
     ]
    }
   ],
   "source": [
    "num=234 2321\n",
    "num.split()"
   ]
  },
  {
   "cell_type": "code",
   "execution_count": null,
   "id": "78302a9c",
   "metadata": {},
   "outputs": [],
   "source": [
    "# input()과 split() 결합해보자\n",
    "num=input().split()\n",
    "#표준입력으로 문자를 받아서 split함수를 통해 띄어쓰기를 인식시킨뒤\n",
    "# num이라는 이름으로 list형식을 빌려서 저장해줘 \n",
    "print(num)"
   ]
  },
  {
   "cell_type": "code",
   "execution_count": null,
   "id": "e3d96093",
   "metadata": {},
   "outputs": [
    {
     "name": "stdout",
     "output_type": "stream",
     "text": [
      "10 30\n",
      "10 30\n",
      "1030\n"
     ]
    }
   ],
   "source": [
    "# 조금만 더 나가보자\n",
    "a, b=input().split()\n",
    "print(a, b)\n",
    "print(a+b)\n",
    "# 문자다"
   ]
  },
  {
   "cell_type": "code",
   "execution_count": null,
   "id": "6ee1d180",
   "metadata": {},
   "outputs": [
    {
     "name": "stdout",
     "output_type": "stream",
     "text": [
      "10 20\n"
     ]
    },
    {
     "ename": "TypeError",
     "evalue": "int() argument must be a string, a bytes-like object or a number, not 'list'",
     "output_type": "error",
     "traceback": [
      "\u001b[1;31m---------------------------------------------------------------------------\u001b[0m",
      "\u001b[1;31mTypeError\u001b[0m                                 Traceback (most recent call last)",
      "\u001b[1;32m~\\AppData\\Local\\Temp\\ipykernel_11480\\3845775650.py\u001b[0m in \u001b[0;36m<module>\u001b[1;34m\u001b[0m\n\u001b[1;32m----> 1\u001b[1;33m \u001b[0ma\u001b[0m\u001b[1;33m,\u001b[0m \u001b[0mb\u001b[0m\u001b[1;33m=\u001b[0m\u001b[0mint\u001b[0m\u001b[1;33m(\u001b[0m\u001b[0minput\u001b[0m\u001b[1;33m(\u001b[0m\u001b[1;33m)\u001b[0m\u001b[1;33m.\u001b[0m\u001b[0msplit\u001b[0m\u001b[1;33m(\u001b[0m\u001b[1;33m)\u001b[0m\u001b[1;33m)\u001b[0m\u001b[1;33m\u001b[0m\u001b[1;33m\u001b[0m\u001b[0m\n\u001b[0m\u001b[0;32m      2\u001b[0m \u001b[0ma\u001b[0m\u001b[1;33m=\u001b[0m\u001b[0mint\u001b[0m\u001b[1;33m(\u001b[0m\u001b[0ma\u001b[0m\u001b[1;33m)\u001b[0m\u001b[1;33m\u001b[0m\u001b[1;33m\u001b[0m\u001b[0m\n\u001b[0;32m      3\u001b[0m \u001b[0mb\u001b[0m\u001b[1;33m=\u001b[0m\u001b[0mint\u001b[0m\u001b[1;33m(\u001b[0m\u001b[0mb\u001b[0m\u001b[1;33m)\u001b[0m\u001b[1;33m\u001b[0m\u001b[1;33m\u001b[0m\u001b[0m\n\u001b[0;32m      4\u001b[0m \u001b[0mprint\u001b[0m\u001b[1;33m(\u001b[0m\u001b[0ma\u001b[0m\u001b[1;33m+\u001b[0m\u001b[0mb\u001b[0m\u001b[1;33m)\u001b[0m\u001b[1;33m\u001b[0m\u001b[1;33m\u001b[0m\u001b[0m\n",
      "\u001b[1;31mTypeError\u001b[0m: int() argument must be a string, a bytes-like object or a number, not 'list'"
     ]
    }
   ],
   "source": [
    "a, b=input().split()\n",
    "# a, b=int(input().split()) => 불가능\n",
    "a=int(a)\n",
    "b=int(b)\n",
    "print(a+b)"
   ]
  },
  {
   "cell_type": "code",
   "execution_count": null,
   "id": "8cdb0b34",
   "metadata": {},
   "outputs": [
    {
     "name": "stdout",
     "output_type": "stream",
     "text": [
      "10 20\n",
      "30\n"
     ]
    }
   ],
   "source": [
    "# a, b=int(input().split()) => 불가능\n",
    "a, b=map(int, (input().split()))\n",
    "print(a+b)"
   ]
  },
  {
   "cell_type": "code",
   "execution_count": null,
   "id": "e78740db",
   "metadata": {},
   "outputs": [
    {
     "name": "stdout",
     "output_type": "stream",
     "text": [
      "숫자 두개를 공백을 두고 작성하기: 10 20\n"
     ]
    }
   ],
   "source": [
    "a, b=map(int, (input(\"숫자 두개를 공백을 두고 작성하기: \").split()))\n"
   ]
  },
  {
   "cell_type": "markdown",
   "id": "096ddefc",
   "metadata": {},
   "source": [
    "#### 문자열을 공부해보자"
   ]
  },
  {
   "cell_type": "code",
   "execution_count": null,
   "id": "67a5299d",
   "metadata": {},
   "outputs": [
    {
     "name": "stdout",
     "output_type": "stream",
     "text": [
      " the weather in good day\n"
     ]
    }
   ],
   "source": [
    "word = \" the weather in good day\"\n",
    "print(word)"
   ]
  },
  {
   "cell_type": "code",
   "execution_count": null,
   "id": "44989c8d",
   "metadata": {},
   "outputs": [
    {
     "name": "stdout",
     "output_type": "stream",
     "text": [
      "the \n",
      "weather \n",
      "in good\n",
      "day\n",
      "\n"
     ]
    }
   ],
   "source": [
    "word = \"\"\"the \n",
    "weather \n",
    "in good\n",
    "day\n",
    "\"\"\"\n",
    "print(word)"
   ]
  },
  {
   "cell_type": "code",
   "execution_count": null,
   "id": "5cb64508",
   "metadata": {},
   "outputs": [
    {
     "name": "stdout",
     "output_type": "stream",
     "text": [
      "the\n",
      "weather\n",
      "in\n",
      "good\n",
      "day\n"
     ]
    }
   ],
   "source": [
    "word=\"the\\nweather\\nin\\ngood\\nday\"\n",
    "print(word)\n",
    "# \\n => 여러줄의 문자열을 객체로 받는 방법 \n",
    "# \\n => 이스케이프 문자 => \\+n, +t를 특별한 의미를 부여받게 된다. "
   ]
  },
  {
   "cell_type": "code",
   "execution_count": null,
   "id": "4013e1d4",
   "metadata": {},
   "outputs": [
    {
     "name": "stdout",
     "output_type": "stream",
     "text": [
      "the\tweather\tin\tgood\tday\n"
     ]
    }
   ],
   "source": [
    "word=\"the\\tweather\\tin\\tgood\\tday\"\n",
    "print(word)"
   ]
  },
  {
   "cell_type": "code",
   "execution_count": null,
   "id": "740d72f3",
   "metadata": {},
   "outputs": [
    {
     "name": "stdout",
     "output_type": "stream",
     "text": [
      "월급: 10000000\n",
      "세전연봉:  120000000\n",
      "세후연봉:  108000000.0\n"
     ]
    }
   ],
   "source": [
    "# 간단한 문제\n",
    "# 1) input을 사용해서 월급을 입력받고, 연봉을 출력한다. 단, 세금10% 제외하기\n",
    "# 구할것: 연봉, 10% 제외한 연봉 \n",
    "money=int(input(\"월급: \"))\n",
    "print(\"세전연봉: \", money*12)\n",
    "print(\"세후연봉: \", money*12*0.9)"
   ]
  },
  {
   "cell_type": "code",
   "execution_count": null,
   "id": "520cb704",
   "metadata": {},
   "outputs": [
    {
     "name": "stdout",
     "output_type": "stream",
     "text": [
      "연필의 갯수: 1\n",
      "펜의 갯수: 1\n",
      "할인전 금액:  7000 원\n",
      "할인후 금액:  4900 원\n"
     ]
    }
   ],
   "source": [
    "# 2) 연필하고 펜을 구입하는 개수와 조건에 따라 총가격을 반환해주는 프로그램\n",
    "# 1. 연필은 3,000원, 펜은 4,000원\n",
    "# 2. 총가격의 30%를 할인하고 있다\n",
    "# 3. 변수는 num_pencil, num_pen => input를 이용해서 개수를 입력\n",
    "# 4. total_price총 가격을 받으세요(2개: 할인전가격, 할인후 가격) \n",
    "num_pencil=int(input(\"연필의 갯수: \"))\n",
    "num_pen=int(input(\"펜의 갯수: \"))\n",
    "total_price=(num_pencil*3000+num_pen*4000)\n",
    "print(\"할인전 금액: \", int(total_price), \"원\")\n",
    "print(\"할인후 금액: \", int(total_price*0.7), \"원\")"
   ]
  },
  {
   "cell_type": "code",
   "execution_count": null,
   "id": "9858681e",
   "metadata": {},
   "outputs": [
    {
     "name": "stdout",
     "output_type": "stream",
     "text": [
      "연필의 갯수: 1\n",
      "펜의 갯수: 1\n",
      "할인후 금액:  4900 원\n"
     ]
    }
   ],
   "source": [
    "num_pencil=int(input(\"연필의 갯수: \"))\n",
    "num_pen=int(input(\"펜의 갯수: \"))\n",
    "total_price=(num_pencil*3000+num_pen*4000)*0.7\n",
    "print(\"할인후 금액: \", int(total_price), \"원\")"
   ]
  },
  {
   "cell_type": "code",
   "execution_count": null,
   "id": "b7c935a4",
   "metadata": {},
   "outputs": [],
   "source": []
  }
 ],
 "metadata": {
  "kernelspec": {
   "display_name": "Python 3 (ipykernel)",
   "language": "python",
   "name": "python3"
  },
  "language_info": {
   "codemirror_mode": {
    "name": "ipython",
    "version": 3
   },
   "file_extension": ".py",
   "mimetype": "text/x-python",
   "name": "python",
   "nbconvert_exporter": "python",
   "pygments_lexer": "ipython3",
   "version": "3.11.4"
  }
 },
 "nbformat": 4,
 "nbformat_minor": 5
}
