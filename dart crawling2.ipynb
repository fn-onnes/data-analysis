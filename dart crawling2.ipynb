{
 "cells": [
  {
   "cell_type": "code",
   "execution_count": 88,
   "id": "38785486",
   "metadata": {},
   "outputs": [],
   "source": [
    "##재무제표를 엑셀파일로 다운로드 받을 수 있는 기업 + 상장티커 있는 기업에 한해 가능 \n",
    "\n",
    "key=\"8be720f0d8d4ecc94f72d9ea3f8d51bdb13e46cc\"  #dart api key 따기\n",
    "corp_code=\"005930\"                              #상장사의 경우 종목코드 6개\n",
    "\n",
    "url='https://opendart.fss.or.kr/api/list.json?crtfc_key={}&corp_code={}&bgn_de=20151231&end_de=20230901&pblntf_ty=A&pblntf_detail_ty=A001&corp_cls=Y&page_no=1&page_count=100'.format(key,corp_code)\n",
    "\n",
    "#해당 url의 key와 코드 번호를 넣고 '엣지'에서 돌리면 크롬보다 더 깔끔하게 보임\n",
    "#다트에서 원하는 보고서 형태로 url 만들고, 종목코드 부분을 포맷형식으로 땄음\n",
    "#15년부터 23년까지, @@주의점은 나온지 얼마 안된 간이보고서는 엑셀이 아니라 pdf 형식이라 안열림. pdf부분은 제외해야함. 여기서는 11월 것 까지 모두 해버려서 뒤에서 인덱스를 제거하는 형식으로 진행"
   ]
  },
  {
   "cell_type": "code",
   "execution_count": 89,
   "id": "42701d55",
   "metadata": {},
   "outputs": [],
   "source": [
    "import requests                          #리퀘스트로 url 정보를 얻고, 응답 내용을 content를 사용해서 얻을 수 있음. 다만 decode시켜서 알아볼수 있게 한 후 변수로 담기\n",
    "resp=requests.get(url)\n",
    "webpage=resp.content.decode('UTF-8')"
   ]
  },
  {
   "cell_type": "code",
   "execution_count": 90,
   "id": "bd369a2d",
   "metadata": {},
   "outputs": [
    {
     "data": {
      "text/plain": [
       "'{\"status\":\"000\",\"message\":\"정상\",\"page_no\":1,\"page_count\":100,\"total_count\":31,\"total_page\":1,\"list\":[{\"corp_code\":\"00126380\",\"corp_name\":\"삼성전자\",\"stock_code\":\"005930\",\"corp_cls\":\"Y\",\"report_nm\":\"반기보고서 (2023.06)\",\"rcept_no\":\"20230814002534\",\"flr_nm\":\"삼성전자\",\"rcept_dt\":\"20230814\",\"rm\":\"\"},{\"corp_code\":\"00126380\",\"corp_name\":\"삼성전자\",\"stock_code\":\"005930\",\"corp_cls\":\"Y\",\"report_nm\":\"분기보고서 (2023.03)\",\"rcept_no\":\"20230515002335\",\"flr_nm\":\"삼성전자\",\"rcept_dt\":\"20230515\",\"rm\":\"\"},{\"corp_code\":\"00126380\",\"corp_name\":\"삼성전자\",\"stock_code\":\"005930\",\"corp_cls\":\"Y\",\"report_nm\":\"사업보고서 (2022.12)\",\"rcept_no\":\"20230307000542\",\"flr_nm\":\"삼성전자\",\"rcept_dt\":\"20230307\",\"rm\":\"연\"},{\"corp_code\":\"00126380\",\"corp_name\":\"삼성전자\",\"stock_code\":\"005930\",\"corp_cls\":\"Y\",\"report_nm\":\"분기보고서 (2022.09)\",\"rcept_no\":\"20221114001832\",\"flr_nm\":\"삼성전자\",\"rcept_dt\":\"20221114\",\"rm\":\"\"},{\"corp_code\":\"00126380\",\"corp_name\":\"삼성전자\",\"stock_code\":\"005930\",\"corp_cls\":\"Y\",\"report_nm\":\"반기보고서 (2022.06)\",\"rcept_no\":\"20220816001711\",\"flr_nm\":\"삼성전자\",\"rcept_dt\":\"20220816\",\"rm\":\"\"},{\"corp_code\":\"00126380\",\"corp_name\":\"삼성전자\",\"stock_code\":\"005930\",\"corp_cls\":\"Y\",\"report_nm\":\"분기보고서 (2022.03)\",\"rcept_no\":\"20220516001751\",\"flr_nm\":\"삼성전자\",\"rcept_dt\":\"20220516\",\"rm\":\"\"},{\"corp_code\":\"00126380\",\"corp_name\":\"삼성전자\",\"stock_code\":\"005930\",\"corp_cls\":\"Y\",\"report_nm\":\"사업보고서 (2021.12)\",\"rcept_no\":\"20220308000798\",\"flr_nm\":\"삼성전자\",\"rcept_dt\":\"20220308\",\"rm\":\"연\"},{\"corp_code\":\"00126380\",\"corp_name\":\"삼성전자\",\"stock_code\":\"005930\",\"corp_cls\":\"Y\",\"report_nm\":\"분기보고서 (2021.09)\",\"rcept_no\":\"20211115001965\",\"flr_nm\":\"삼성전자\",\"rcept_dt\":\"20211115\",\"rm\":\"\"},{\"corp_code\":\"00126380\",\"corp_name\":\"삼성전자\",\"stock_code\":\"005930\",\"corp_cls\":\"Y\",\"report_nm\":\"반기보고서 (2021.06)\",\"rcept_no\":\"20210817001416\",\"flr_nm\":\"삼성전자\",\"rcept_dt\":\"20210817\",\"rm\":\"\"},{\"corp_code\":\"00126380\",\"corp_name\":\"삼성전자\",\"stock_code\":\"005930\",\"corp_cls\":\"Y\",\"report_nm\":\"분기보고서 (2021.03)\",\"rcept_no\":\"20210517001185\",\"flr_nm\":\"삼성전자\",\"rcept_dt\":\"20210517\",\"rm\":\"\"},{\"corp_code\":\"00126380\",\"corp_name\":\"삼성전자\",\"stock_code\":\"005930\",\"corp_cls\":\"Y\",\"report_nm\":\"사업보고서 (2020.12)\",\"rcept_no\":\"20210309000744\",\"flr_nm\":\"삼성전자\",\"rcept_dt\":\"20210309\",\"rm\":\"연\"},{\"corp_code\":\"00126380\",\"corp_name\":\"삼성전자\",\"stock_code\":\"005930\",\"corp_cls\":\"Y\",\"report_nm\":\"분기보고서 (2020.09)\",\"rcept_no\":\"20201116001248\",\"flr_nm\":\"삼성전자\",\"rcept_dt\":\"20201116\",\"rm\":\"\"},{\"corp_code\":\"00126380\",\"corp_name\":\"삼성전자\",\"stock_code\":\"005930\",\"corp_cls\":\"Y\",\"report_nm\":\"반기보고서 (2020.06)\",\"rcept_no\":\"20200814001766\",\"flr_nm\":\"삼성전자\",\"rcept_dt\":\"20200814\",\"rm\":\"\"},{\"corp_code\":\"00126380\",\"corp_name\":\"삼성전자\",\"stock_code\":\"005930\",\"corp_cls\":\"Y\",\"report_nm\":\"분기보고서 (2020.03)\",\"rcept_no\":\"20200515001451\",\"flr_nm\":\"삼성전자\",\"rcept_dt\":\"20200515\",\"rm\":\"\"},{\"corp_code\":\"00126380\",\"corp_name\":\"삼성전자\",\"stock_code\":\"005930\",\"corp_cls\":\"Y\",\"report_nm\":\"사업보고서 (2019.12)\",\"rcept_no\":\"20200330003851\",\"flr_nm\":\"삼성전자\",\"rcept_dt\":\"20200330\",\"rm\":\"연\"},{\"corp_code\":\"00126380\",\"corp_name\":\"삼성전자\",\"stock_code\":\"005930\",\"corp_cls\":\"Y\",\"report_nm\":\"분기보고서 (2019.09)\",\"rcept_no\":\"20191114001273\",\"flr_nm\":\"삼성전자\",\"rcept_dt\":\"20191114\",\"rm\":\"\"},{\"corp_code\":\"00126380\",\"corp_name\":\"삼성전자\",\"stock_code\":\"005930\",\"corp_cls\":\"Y\",\"report_nm\":\"반기보고서 (2019.06)\",\"rcept_no\":\"20190814002218\",\"flr_nm\":\"삼성전자\",\"rcept_dt\":\"20190814\",\"rm\":\"\"},{\"corp_code\":\"00126380\",\"corp_name\":\"삼성전자\",\"stock_code\":\"005930\",\"corp_cls\":\"Y\",\"report_nm\":\"분기보고서 (2019.03)\",\"rcept_no\":\"20190515001605\",\"flr_nm\":\"삼성전자\",\"rcept_dt\":\"20190515\",\"rm\":\"\"},{\"corp_code\":\"00126380\",\"corp_name\":\"삼성전자\",\"stock_code\":\"005930\",\"corp_cls\":\"Y\",\"report_nm\":\"사업보고서 (2018.12)\",\"rcept_no\":\"20190401004781\",\"flr_nm\":\"삼성전자\",\"rcept_dt\":\"20190401\",\"rm\":\"연\"},{\"corp_code\":\"00126380\",\"corp_name\":\"삼성전자\",\"stock_code\":\"005930\",\"corp_cls\":\"Y\",\"report_nm\":\"분기보고서 (2018.09)\",\"rcept_no\":\"20181114001530\",\"flr_nm\":\"삼성전자\",\"rcept_dt\":\"20181114\",\"rm\":\"\"},{\"corp_code\":\"00126380\",\"corp_name\":\"삼성전자\",\"stock_code\":\"005930\",\"corp_cls\":\"Y\",\"report_nm\":\"반기보고서 (2018.06)\",\"rcept_no\":\"20180814001113\",\"flr_nm\":\"삼성전자\",\"rcept_dt\":\"20180814\",\"rm\":\"\"},{\"corp_code\":\"00126380\",\"corp_name\":\"삼성전자\",\"stock_code\":\"005930\",\"corp_cls\":\"Y\",\"report_nm\":\"분기보고서 (2018.03)\",\"rcept_no\":\"20180515001699\",\"flr_nm\":\"삼성전자\",\"rcept_dt\":\"20180515\",\"rm\":\"\"},{\"corp_code\":\"00126380\",\"corp_name\":\"삼성전자\",\"stock_code\":\"005930\",\"corp_cls\":\"Y\",\"report_nm\":\"사업보고서 (2017.12)\",\"rcept_no\":\"20180402005019\",\"flr_nm\":\"삼성전자\",\"rcept_dt\":\"20180402\",\"rm\":\"연\"},{\"corp_code\":\"00126380\",\"corp_name\":\"삼성전자\",\"stock_code\":\"005930\",\"corp_cls\":\"Y\",\"report_nm\":\"분기보고서 (2017.09)\",\"rcept_no\":\"20171114001694\",\"flr_nm\":\"삼성전자\",\"rcept_dt\":\"20171114\",\"rm\":\"\"},{\"corp_code\":\"00126380\",\"corp_name\":\"삼성전자\",\"stock_code\":\"005930\",\"corp_cls\":\"Y\",\"report_nm\":\"반기보고서 (2017.06)\",\"rcept_no\":\"20170814001832\",\"flr_nm\":\"삼성전자\",\"rcept_dt\":\"20170814\",\"rm\":\"\"},{\"corp_code\":\"00126380\",\"corp_name\":\"삼성전자\",\"stock_code\":\"005930\",\"corp_cls\":\"Y\",\"report_nm\":\"분기보고서 (2017.03)\",\"rcept_no\":\"20170515003806\",\"flr_nm\":\"삼성전자\",\"rcept_dt\":\"20170515\",\"rm\":\"\"},{\"corp_code\":\"00126380\",\"corp_name\":\"삼성전자\",\"stock_code\":\"005930\",\"corp_cls\":\"Y\",\"report_nm\":\"사업보고서 (2016.12)\",\"rcept_no\":\"20170331004518\",\"flr_nm\":\"삼성전자\",\"rcept_dt\":\"20170331\",\"rm\":\"연\"},{\"corp_code\":\"00126380\",\"corp_name\":\"삼성전자\",\"stock_code\":\"005930\",\"corp_cls\":\"Y\",\"report_nm\":\"분기보고서 (2016.09)\",\"rcept_no\":\"20161114001491\",\"flr_nm\":\"삼성전자\",\"rcept_dt\":\"20161114\",\"rm\":\"\"},{\"corp_code\":\"00126380\",\"corp_name\":\"삼성전자\",\"stock_code\":\"005930\",\"corp_cls\":\"Y\",\"report_nm\":\"반기보고서 (2016.06)\",\"rcept_no\":\"20160816001779\",\"flr_nm\":\"삼성전자\",\"rcept_dt\":\"20160816\",\"rm\":\"\"},{\"corp_code\":\"00126380\",\"corp_name\":\"삼성전자\",\"stock_code\":\"005930\",\"corp_cls\":\"Y\",\"report_nm\":\"분기보고서 (2016.03)\",\"rcept_no\":\"20160516003174\",\"flr_nm\":\"삼성전자\",\"rcept_dt\":\"20160516\",\"rm\":\"\"},{\"corp_code\":\"00126380\",\"corp_name\":\"삼성전자\",\"stock_code\":\"005930\",\"corp_cls\":\"Y\",\"report_nm\":\"사업보고서 (2015.12)\",\"rcept_no\":\"20160330003536\",\"flr_nm\":\"삼성전자\",\"rcept_dt\":\"20160330\",\"rm\":\"연\"}]}'"
      ]
     },
     "execution_count": 90,
     "metadata": {},
     "output_type": "execute_result"
    }
   ],
   "source": [
    "webpage   #rcp넘버와 report_nm이 제대로 출력되는지 확인"
   ]
  },
  {
   "cell_type": "code",
   "execution_count": 91,
   "id": "7ff852f8",
   "metadata": {},
   "outputs": [],
   "source": [
    "import re                                  #re는 정규 표현식(Regular Expression)= 문자열 패턴 매칭과 검색, 대체 등 다양한 문자열 조작 작업\n",
    "rcp_list=re.findall(r'\"rcept_no\":\"(\\d+)\"', webpage)  #r은 raw string을 나타내는 리터럴 접두사 = raw string은 이스케이프 문자(escape characters)를 해석하지 않고 그대로 표현되는 문자열\n",
    "                                            #(\\d+)는 하나 이상의 숫자로 이루어진 그룹에 매치되는 패턴\n",
    "                           #리스트가 원하는 날짜부터 생기는지 확인\n"
   ]
  },
  {
   "cell_type": "code",
   "execution_count": 92,
   "id": "6d30da79",
   "metadata": {},
   "outputs": [],
   "source": [
    "import re                                  #re는 정규 표현식(Regular Expression)= 문자열 패턴 매칭과 검색, 대체 등 다양한 문자열 조작 작업\n",
    "period_list=re.findall(r'\"report_nm\":\"(.*?)\"', webpage)  #r은 raw string을 나타내는 리터럴 접두사 = raw string은 이스케이프 문자(escape characters)를 해석하지 않고 그대로 표현되는 문자열\n",
    "                                            #(.*?)이건 문자열이나 패턴을 나타내는 것인데 어려워서 pass\n",
    "\n"
   ]
  },
  {
   "cell_type": "code",
   "execution_count": 93,
   "id": "fa343032",
   "metadata": {},
   "outputs": [
    {
     "data": {
      "text/plain": [
       "{'반기보고서 (2023.06)': '20230814002534',\n",
       " '분기보고서 (2023.03)': '20230515002335',\n",
       " '사업보고서 (2022.12)': '20230307000542',\n",
       " '분기보고서 (2022.09)': '20221114001832',\n",
       " '반기보고서 (2022.06)': '20220816001711',\n",
       " '분기보고서 (2022.03)': '20220516001751',\n",
       " '사업보고서 (2021.12)': '20220308000798',\n",
       " '분기보고서 (2021.09)': '20211115001965',\n",
       " '반기보고서 (2021.06)': '20210817001416',\n",
       " '분기보고서 (2021.03)': '20210517001185',\n",
       " '사업보고서 (2020.12)': '20210309000744',\n",
       " '분기보고서 (2020.09)': '20201116001248',\n",
       " '반기보고서 (2020.06)': '20200814001766',\n",
       " '분기보고서 (2020.03)': '20200515001451',\n",
       " '사업보고서 (2019.12)': '20200330003851',\n",
       " '분기보고서 (2019.09)': '20191114001273',\n",
       " '반기보고서 (2019.06)': '20190814002218',\n",
       " '분기보고서 (2019.03)': '20190515001605',\n",
       " '사업보고서 (2018.12)': '20190401004781',\n",
       " '분기보고서 (2018.09)': '20181114001530',\n",
       " '반기보고서 (2018.06)': '20180814001113',\n",
       " '분기보고서 (2018.03)': '20180515001699',\n",
       " '사업보고서 (2017.12)': '20180402005019',\n",
       " '분기보고서 (2017.09)': '20171114001694',\n",
       " '반기보고서 (2017.06)': '20170814001832',\n",
       " '분기보고서 (2017.03)': '20170515003806',\n",
       " '사업보고서 (2016.12)': '20170331004518',\n",
       " '분기보고서 (2016.09)': '20161114001491',\n",
       " '반기보고서 (2016.06)': '20160816001779',\n",
       " '분기보고서 (2016.03)': '20160516003174',\n",
       " '사업보고서 (2015.12)': '20160330003536'}"
      ]
     },
     "execution_count": 93,
     "metadata": {},
     "output_type": "execute_result"
    }
   ],
   "source": [
    "dict(zip(period_list, rcp_list))"
   ]
  },
  {
   "cell_type": "code",
   "execution_count": 94,
   "id": "bf39200b",
   "metadata": {},
   "outputs": [],
   "source": [
    "dcm_list=[]\n",
    "\n",
    "for rcp_no in rcp_list:\n",
    "    resp=requests.get('https://dart.fss.or.kr/dsaf001/main.do?rcpNo={}'.format(rcp_no))\n",
    "    webpage = resp.content.decode('UTF-8')\n",
    "    webpage\n",
    "    dcm_no=re.findall(r'\"{}\";\\n\\t\\t\\tnode\\d+\\[\\'dcmNo\\'\\] = \"(\\d+)\"'.format(rcp_no), webpage)[0]\n",
    "    dcm_list.append(dcm_no)\n"
   ]
  },
  {
   "cell_type": "code",
   "execution_count": 95,
   "id": "c081805a",
   "metadata": {
    "scrolled": false
   },
   "outputs": [
    {
     "data": {
      "text/plain": [
       "['9393213',\n",
       " '9276899',\n",
       " '9040011',\n",
       " '8870996',\n",
       " '8772454',\n",
       " '8664658',\n",
       " '8446647',\n",
       " '8278120',\n",
       " '8181127',\n",
       " '8073522',\n",
       " '7861003',\n",
       " '7549051',\n",
       " '7446167',\n",
       " '7341446',\n",
       " '7202455',\n",
       " '6958001',\n",
       " '6846651',\n",
       " '6738798',\n",
       " '6616741',\n",
       " '6382016',\n",
       " '6282263',\n",
       " '6180129',\n",
       " '6060273',\n",
       " '5845320',\n",
       " '5752868',\n",
       " '5653406',\n",
       " '5540271',\n",
       " '5349987',\n",
       " '5261457',\n",
       " '5146351',\n",
       " '5026126']"
      ]
     },
     "execution_count": 95,
     "metadata": {},
     "output_type": "execute_result"
    }
   ],
   "source": [
    "dcm_list\n"
   ]
  },
  {
   "cell_type": "code",
   "execution_count": 96,
   "id": "6ccba594",
   "metadata": {},
   "outputs": [],
   "source": [
    "from io import BytesIO\n",
    "import pandas as pd\n"
   ]
  },
  {
   "cell_type": "code",
   "execution_count": 97,
   "id": "cdbbfb7d",
   "metadata": {},
   "outputs": [],
   "source": [
    "user=\"Mozilla/5.0 (Windows NT 10.0; Win64; x64) AppleWebKit/537.36 (KHTML, like Gecko) Chrome/118.0.0.0 Safari/537.36\"\n",
    "pocket=[\"연결 재무상태표\", \"연결 손익계산서\", \"연결 현금흐름표\"]   #포괄손익계산서 일 수 있음. 이름 조심\n",
    "\n",
    "def download(period, rcp, dcm, company):\n",
    "    url=\"https://dart.fss.or.kr/pdf/download/excel.do?rcp_no={}&dcm_no={}&lang=ko\".format(rcp,dcm)\n",
    "    resp = requests.get(url, headers={\"user-agent\": user})\n",
    "    table=BytesIO(resp.content)\n",
    "    \n",
    "    for sheet in pocket:\n",
    "        print(\"*\")\n",
    "        test=pd.read_excel(table, sheet_name=sheet, skiprows=5)          ##보고서들이 엑셀이 아닌 pdf일 수 있다.\n",
    "        test.to_csv(company+str(period)+sheet+\".csv\",encoding=\"euc-kr\")"
   ]
  },
  {
   "cell_type": "code",
   "execution_count": 99,
   "id": "53d7036b",
   "metadata": {},
   "outputs": [
    {
     "name": "stdout",
     "output_type": "stream",
     "text": [
      "*\n",
      "*\n",
      "*\n",
      "*\n",
      "*\n",
      "*\n",
      "*\n",
      "*\n",
      "*\n",
      "*\n",
      "*\n",
      "*\n",
      "*\n",
      "*\n",
      "*\n",
      "*\n",
      "*\n",
      "*\n",
      "*\n",
      "*\n",
      "*\n",
      "*\n",
      "*\n",
      "*\n",
      "*\n",
      "*\n",
      "*\n",
      "*\n",
      "*\n",
      "*\n",
      "*\n",
      "*\n",
      "*\n",
      "*\n",
      "*\n",
      "*\n",
      "*\n",
      "*\n",
      "*\n",
      "*\n",
      "*\n",
      "*\n",
      "*\n",
      "*\n",
      "*\n",
      "*\n",
      "*\n",
      "*\n",
      "*\n",
      "*\n",
      "*\n",
      "*\n",
      "*\n",
      "*\n",
      "*\n",
      "*\n",
      "*\n",
      "*\n",
      "*\n",
      "*\n",
      "*\n",
      "*\n",
      "*\n",
      "*\n",
      "*\n",
      "*\n",
      "*\n",
      "*\n",
      "*\n",
      "*\n",
      "*\n",
      "*\n",
      "*\n",
      "*\n",
      "*\n",
      "*\n",
      "*\n",
      "*\n",
      "*\n",
      "*\n",
      "*\n",
      "*\n",
      "*\n",
      "*\n",
      "*\n",
      "*\n",
      "*\n",
      "*\n",
      "*\n",
      "*\n",
      "*\n",
      "*\n",
      "*\n"
     ]
    }
   ],
   "source": [
    "for period, rcp, dcm in zip(period_list, rcp_list, dcm_list):\n",
    "    download(period, rcp, dcm,'삼성전자')"
   ]
  },
  {
   "cell_type": "code",
   "execution_count": null,
   "id": "d184b87a",
   "metadata": {},
   "outputs": [],
   "source": []
  }
 ],
 "metadata": {
  "kernelspec": {
   "display_name": "Python 3 (ipykernel)",
   "language": "python",
   "name": "python3"
  },
  "language_info": {
   "codemirror_mode": {
    "name": "ipython",
    "version": 3
   },
   "file_extension": ".py",
   "mimetype": "text/x-python",
   "name": "python",
   "nbconvert_exporter": "python",
   "pygments_lexer": "ipython3",
   "version": "3.11.4"
  }
 },
 "nbformat": 4,
 "nbformat_minor": 5
}
